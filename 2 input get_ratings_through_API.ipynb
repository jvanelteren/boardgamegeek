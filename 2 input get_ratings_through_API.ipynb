{
 "cells": [
  {
   "cell_type": "code",
   "execution_count": 1,
   "metadata": {},
   "outputs": [],
   "source": [
    "import xmltodict\n",
    "import math\n",
    "import urllib.request\n",
    "import itertools\n",
    "import pandas as pd\n",
    "import pickle   \n",
    "from sklearn.utils import shuffle\n",
    "import time\n",
    "import numpy as np\n",
    "import traceback\n",
    "from IPython.display import display_html \n"
   ]
  },
  {
   "cell_type": "code",
   "execution_count": 2,
   "metadata": {
    "tags": []
   },
   "outputs": [],
   "source": [
    "import sqlite3\n",
    "from sqlite3 import Error\n",
    "\n",
    "def create_con(db_file):\n",
    "    conn = None\n",
    "    try:\n",
    "        conn = sqlite3.connect(db_file)\n",
    "        return conn\n",
    "    except Error as e:\n",
    "        print(e)\n",
    "\n",
    "def create_table(conn, create_table_sql):\n",
    "    try:\n",
    "        c = conn.cursor()\n",
    "        c.execute(create_table_sql)\n",
    "        conn.commit()\n",
    "    except Error as e:\n",
    "        print(e)\n",
    "\n",
    "def create_game(conn, game):\n",
    "    sql = \"\"\" INSERT INTO games(name)\n",
    "              VALUES(?) \"\"\"\n",
    "    c = conn.cursor()\n",
    "    c.execute(sql, game)\n",
    "    conn.commit()\n",
    "    return c.lastrowid\n",
    "\n",
    "\n",
    "def create_reviews(conn, reviews):\n",
    "    sql = \"\"\" INSERT INTO reviews(ID, user, rating, comment)\n",
    "              VALUES(?,?,?,?) \"\"\"\n",
    "    cur = conn.cursor()\n",
    "    for review in reviews:\n",
    "        cur.execute(sql,review)\n",
    "    cur.execute(sql, review)\n",
    "    conn.commit()\n",
    "    return cur.lastrowid\n",
    "\n",
    "def do_sql(conn,sql):\n",
    "    cur = conn.cursor()\n",
    "    cur.execute(sql)\n",
    "    rows = cur.fetchall()\n",
    "    for row in rows:\n",
    "        print(row)\n",
    "\n",
    "def count_reviews(conn):\n",
    "    cur = conn.cursor()\n",
    "    print(cur.execute(\"SELECT COUNT (*) FROM reviews;\").fetchall()[0])\n",
    "\n",
    "def count_distinct_reviews(conn):\n",
    "    cur = conn.cursor()\n",
    "    print(cur.execute(\"SELECT COUNT(*) FROM (SELECT DISTINCT * FROM reviews);\").fetchall()[0])\n",
    "\n",
    "def del_all_records(conn):\n",
    "    cur = conn.cursor()\n",
    "    cur.execute(\"DROP TABLE IF EXISTS reviews\")\n",
    "    cur.execute(\"DROP TABLE IF EXISTS games\")\n",
    "    conn.commit()"
   ]
  },
  {
   "cell_type": "code",
   "execution_count": 3,
   "metadata": {},
   "outputs": [
    {
     "data": {
      "text/html": [
       "<div>\n",
       "<style scoped>\n",
       "    .dataframe tbody tr th:only-of-type {\n",
       "        vertical-align: middle;\n",
       "    }\n",
       "\n",
       "    .dataframe tbody tr th {\n",
       "        vertical-align: top;\n",
       "    }\n",
       "\n",
       "    .dataframe thead th {\n",
       "        text-align: right;\n",
       "    }\n",
       "</style>\n",
       "<table border=\"1\" class=\"dataframe\">\n",
       "  <thead>\n",
       "    <tr style=\"text-align: right;\">\n",
       "      <th></th>\n",
       "      <th>ID</th>\n",
       "      <th>Name</th>\n",
       "      <th>Year</th>\n",
       "      <th>Rank</th>\n",
       "      <th>Average</th>\n",
       "      <th>Bayes average</th>\n",
       "      <th>Users rated</th>\n",
       "      <th>URL</th>\n",
       "      <th>Thumbnail</th>\n",
       "    </tr>\n",
       "  </thead>\n",
       "  <tbody>\n",
       "    <tr>\n",
       "      <th>105</th>\n",
       "      <td>30549</td>\n",
       "      <td>Pandemic</td>\n",
       "      <td>2008</td>\n",
       "      <td>106</td>\n",
       "      <td>7.59</td>\n",
       "      <td>7.487</td>\n",
       "      <td>109038</td>\n",
       "      <td>/boardgame/30549/pandemic</td>\n",
       "      <td>https://cf.geekdo-images.com/S3ybV1LAp-8SnHIXL...</td>\n",
       "    </tr>\n",
       "    <tr>\n",
       "      <th>190</th>\n",
       "      <td>822</td>\n",
       "      <td>Carcassonne</td>\n",
       "      <td>2000</td>\n",
       "      <td>191</td>\n",
       "      <td>7.42</td>\n",
       "      <td>7.308</td>\n",
       "      <td>108816</td>\n",
       "      <td>/boardgame/822/carcassonne</td>\n",
       "      <td>https://cf.geekdo-images.com/okM0dq_bEXnbyQTOv...</td>\n",
       "    </tr>\n",
       "    <tr>\n",
       "      <th>429</th>\n",
       "      <td>13</td>\n",
       "      <td>Catan</td>\n",
       "      <td>1995</td>\n",
       "      <td>430</td>\n",
       "      <td>7.14</td>\n",
       "      <td>6.970</td>\n",
       "      <td>108108</td>\n",
       "      <td>/boardgame/13/catan</td>\n",
       "      <td>https://cf.geekdo-images.com/W3Bsga_uLP9kO91gZ...</td>\n",
       "    </tr>\n",
       "    <tr>\n",
       "      <th>72</th>\n",
       "      <td>68448</td>\n",
       "      <td>7 Wonders</td>\n",
       "      <td>2010</td>\n",
       "      <td>73</td>\n",
       "      <td>7.74</td>\n",
       "      <td>7.634</td>\n",
       "      <td>90050</td>\n",
       "      <td>/boardgame/68448/7-wonders</td>\n",
       "      <td>https://cf.geekdo-images.com/RvFVTEpnbb4NM7k0I...</td>\n",
       "    </tr>\n",
       "    <tr>\n",
       "      <th>103</th>\n",
       "      <td>36218</td>\n",
       "      <td>Dominion</td>\n",
       "      <td>2008</td>\n",
       "      <td>104</td>\n",
       "      <td>7.61</td>\n",
       "      <td>7.499</td>\n",
       "      <td>81600</td>\n",
       "      <td>/boardgame/36218/dominion</td>\n",
       "      <td>https://cf.geekdo-images.com/j6iQpZ4XkemZP07HN...</td>\n",
       "    </tr>\n",
       "  </tbody>\n",
       "</table>\n",
       "</div>"
      ],
      "text/plain": [
       "        ID         Name  Year  Rank  Average  Bayes average  Users rated  \\\n",
       "105  30549     Pandemic  2008   106     7.59          7.487       109038   \n",
       "190    822  Carcassonne  2000   191     7.42          7.308       108816   \n",
       "429     13        Catan  1995   430     7.14          6.970       108108   \n",
       "72   68448    7 Wonders  2010    73     7.74          7.634        90050   \n",
       "103  36218     Dominion  2008   104     7.61          7.499        81600   \n",
       "\n",
       "                            URL  \\\n",
       "105   /boardgame/30549/pandemic   \n",
       "190  /boardgame/822/carcassonne   \n",
       "429         /boardgame/13/catan   \n",
       "72   /boardgame/68448/7-wonders   \n",
       "103   /boardgame/36218/dominion   \n",
       "\n",
       "                                             Thumbnail  \n",
       "105  https://cf.geekdo-images.com/S3ybV1LAp-8SnHIXL...  \n",
       "190  https://cf.geekdo-images.com/okM0dq_bEXnbyQTOv...  \n",
       "429  https://cf.geekdo-images.com/W3Bsga_uLP9kO91gZ...  \n",
       "72   https://cf.geekdo-images.com/RvFVTEpnbb4NM7k0I...  \n",
       "103  https://cf.geekdo-images.com/j6iQpZ4XkemZP07HN...  "
      ]
     },
     "execution_count": 3,
     "metadata": {},
     "output_type": "execute_result"
    }
   ],
   "source": [
    "from urllib.request import urlopen\n",
    "# the original csv from https://raw.githubusercontent.com/beefsack/bgg-ranking-historicals/master/2017-02-21.csv\n",
    "# The ID's where used in API calls to retrieve the game reviews\n",
    "link=\"https://raw.githubusercontent.com/beefsack/bgg-ranking-historicals/master/2022-01-10.csv\"\n",
    "f = urlopen(link)\n",
    "games = pd.read_csv(f)\n",
    "games.describe()\n",
    "games.sort_values('Users rated',ascending=False,inplace=True)\n",
    "# games.set_index('ID', inplace=True)\n",
    "games[:5]\n"
   ]
  },
  {
   "cell_type": "code",
   "execution_count": 4,
   "metadata": {
    "tags": []
   },
   "outputs": [
    {
     "name": "stdout",
     "output_type": "stream",
     "text": [
      "2022-01-12 15:17:30,490 INFO sqlalchemy.engine.Engine PRAGMA main.table_info(\"games\")\n",
      "2022-01-12 15:17:30,491 INFO sqlalchemy.engine.Engine [raw sql] ()\n"
     ]
    },
    {
     "ename": "ValueError",
     "evalue": "Table 'games' already exists.",
     "output_type": "error",
     "traceback": [
      "\u001b[1;31m---------------------------------------------------------------------------\u001b[0m",
      "\u001b[1;31mValueError\u001b[0m                                Traceback (most recent call last)",
      "\u001b[1;32mC:\\Users\\GEBRUI~1\\AppData\\Local\\Temp/ipykernel_22240/4096921917.py\u001b[0m in \u001b[0;36m<module>\u001b[1;34m\u001b[0m\n\u001b[0;32m     14\u001b[0m \u001b[1;32mif\u001b[0m \u001b[0mconn\u001b[0m\u001b[1;33m:\u001b[0m\u001b[1;33m\u001b[0m\u001b[1;33m\u001b[0m\u001b[0m\n\u001b[0;32m     15\u001b[0m     \u001b[0mengine\u001b[0m \u001b[1;33m=\u001b[0m \u001b[0mcreate_engine\u001b[0m\u001b[1;33m(\u001b[0m\u001b[1;34m'sqlite:///%s'\u001b[0m \u001b[1;33m%\u001b[0m \u001b[1;34m'bgg2022.db'\u001b[0m\u001b[1;33m,\u001b[0m \u001b[0mecho\u001b[0m\u001b[1;33m=\u001b[0m\u001b[1;32mTrue\u001b[0m\u001b[1;33m)\u001b[0m\u001b[1;33m\u001b[0m\u001b[1;33m\u001b[0m\u001b[0m\n\u001b[1;32m---> 16\u001b[1;33m     \u001b[0mgames\u001b[0m\u001b[1;33m[\u001b[0m\u001b[1;33m[\u001b[0m\u001b[1;34m'ID'\u001b[0m\u001b[1;33m,\u001b[0m\u001b[1;34m'Name'\u001b[0m\u001b[1;33m]\u001b[0m\u001b[1;33m]\u001b[0m\u001b[1;33m.\u001b[0m\u001b[0mto_sql\u001b[0m\u001b[1;33m(\u001b[0m\u001b[1;34m'games'\u001b[0m\u001b[1;33m,\u001b[0m \u001b[0mcon\u001b[0m\u001b[1;33m=\u001b[0m\u001b[0mengine\u001b[0m\u001b[1;33m)\u001b[0m\u001b[1;33m\u001b[0m\u001b[1;33m\u001b[0m\u001b[0m\n\u001b[0m\u001b[0;32m     17\u001b[0m     \u001b[1;31m# c = conn.cursor()\u001b[0m\u001b[1;33m\u001b[0m\u001b[1;33m\u001b[0m\u001b[0m\n\u001b[0;32m     18\u001b[0m     \u001b[1;31m# c.execute(\"\"\" DROP TABLE IF EXISTS games\"\"\")\u001b[0m\u001b[1;33m\u001b[0m\u001b[1;33m\u001b[0m\u001b[0m\n",
      "\u001b[1;32m~\\AppData\\Roaming\\Python\\Python310\\site-packages\\pandas\\core\\generic.py\u001b[0m in \u001b[0;36mto_sql\u001b[1;34m(self, name, con, schema, if_exists, index, index_label, chunksize, dtype, method)\u001b[0m\n\u001b[0;32m   2870\u001b[0m         \u001b[1;32mfrom\u001b[0m \u001b[0mpandas\u001b[0m\u001b[1;33m.\u001b[0m\u001b[0mio\u001b[0m \u001b[1;32mimport\u001b[0m \u001b[0msql\u001b[0m\u001b[1;33m\u001b[0m\u001b[1;33m\u001b[0m\u001b[0m\n\u001b[0;32m   2871\u001b[0m \u001b[1;33m\u001b[0m\u001b[0m\n\u001b[1;32m-> 2872\u001b[1;33m         sql.to_sql(\n\u001b[0m\u001b[0;32m   2873\u001b[0m             \u001b[0mself\u001b[0m\u001b[1;33m,\u001b[0m\u001b[1;33m\u001b[0m\u001b[1;33m\u001b[0m\u001b[0m\n\u001b[0;32m   2874\u001b[0m             \u001b[0mname\u001b[0m\u001b[1;33m,\u001b[0m\u001b[1;33m\u001b[0m\u001b[1;33m\u001b[0m\u001b[0m\n",
      "\u001b[1;32m~\\AppData\\Roaming\\Python\\Python310\\site-packages\\pandas\\io\\sql.py\u001b[0m in \u001b[0;36mto_sql\u001b[1;34m(frame, name, con, schema, if_exists, index, index_label, chunksize, dtype, method, engine, **engine_kwargs)\u001b[0m\n\u001b[0;32m    715\u001b[0m         )\n\u001b[0;32m    716\u001b[0m \u001b[1;33m\u001b[0m\u001b[0m\n\u001b[1;32m--> 717\u001b[1;33m     pandas_sql.to_sql(\n\u001b[0m\u001b[0;32m    718\u001b[0m         \u001b[0mframe\u001b[0m\u001b[1;33m,\u001b[0m\u001b[1;33m\u001b[0m\u001b[1;33m\u001b[0m\u001b[0m\n\u001b[0;32m    719\u001b[0m         \u001b[0mname\u001b[0m\u001b[1;33m,\u001b[0m\u001b[1;33m\u001b[0m\u001b[1;33m\u001b[0m\u001b[0m\n",
      "\u001b[1;32m~\\AppData\\Roaming\\Python\\Python310\\site-packages\\pandas\\io\\sql.py\u001b[0m in \u001b[0;36mto_sql\u001b[1;34m(self, frame, name, if_exists, index, index_label, schema, chunksize, dtype, method, engine, **engine_kwargs)\u001b[0m\n\u001b[0;32m   1749\u001b[0m         \u001b[0msql_engine\u001b[0m \u001b[1;33m=\u001b[0m \u001b[0mget_engine\u001b[0m\u001b[1;33m(\u001b[0m\u001b[0mengine\u001b[0m\u001b[1;33m)\u001b[0m\u001b[1;33m\u001b[0m\u001b[1;33m\u001b[0m\u001b[0m\n\u001b[0;32m   1750\u001b[0m \u001b[1;33m\u001b[0m\u001b[0m\n\u001b[1;32m-> 1751\u001b[1;33m         table = self.prep_table(\n\u001b[0m\u001b[0;32m   1752\u001b[0m             \u001b[0mframe\u001b[0m\u001b[1;33m=\u001b[0m\u001b[0mframe\u001b[0m\u001b[1;33m,\u001b[0m\u001b[1;33m\u001b[0m\u001b[1;33m\u001b[0m\u001b[0m\n\u001b[0;32m   1753\u001b[0m             \u001b[0mname\u001b[0m\u001b[1;33m=\u001b[0m\u001b[0mname\u001b[0m\u001b[1;33m,\u001b[0m\u001b[1;33m\u001b[0m\u001b[1;33m\u001b[0m\u001b[0m\n",
      "\u001b[1;32m~\\AppData\\Roaming\\Python\\Python310\\site-packages\\pandas\\io\\sql.py\u001b[0m in \u001b[0;36mprep_table\u001b[1;34m(self, frame, name, if_exists, index, index_label, schema, dtype)\u001b[0m\n\u001b[0;32m   1648\u001b[0m             \u001b[0mdtype\u001b[0m\u001b[1;33m=\u001b[0m\u001b[0mdtype\u001b[0m\u001b[1;33m,\u001b[0m\u001b[1;33m\u001b[0m\u001b[1;33m\u001b[0m\u001b[0m\n\u001b[0;32m   1649\u001b[0m         )\n\u001b[1;32m-> 1650\u001b[1;33m         \u001b[0mtable\u001b[0m\u001b[1;33m.\u001b[0m\u001b[0mcreate\u001b[0m\u001b[1;33m(\u001b[0m\u001b[1;33m)\u001b[0m\u001b[1;33m\u001b[0m\u001b[1;33m\u001b[0m\u001b[0m\n\u001b[0m\u001b[0;32m   1651\u001b[0m         \u001b[1;32mreturn\u001b[0m \u001b[0mtable\u001b[0m\u001b[1;33m\u001b[0m\u001b[1;33m\u001b[0m\u001b[0m\n\u001b[0;32m   1652\u001b[0m \u001b[1;33m\u001b[0m\u001b[0m\n",
      "\u001b[1;32m~\\AppData\\Roaming\\Python\\Python310\\site-packages\\pandas\\io\\sql.py\u001b[0m in \u001b[0;36mcreate\u001b[1;34m(self)\u001b[0m\n\u001b[0;32m    856\u001b[0m         \u001b[1;32mif\u001b[0m \u001b[0mself\u001b[0m\u001b[1;33m.\u001b[0m\u001b[0mexists\u001b[0m\u001b[1;33m(\u001b[0m\u001b[1;33m)\u001b[0m\u001b[1;33m:\u001b[0m\u001b[1;33m\u001b[0m\u001b[1;33m\u001b[0m\u001b[0m\n\u001b[0;32m    857\u001b[0m             \u001b[1;32mif\u001b[0m \u001b[0mself\u001b[0m\u001b[1;33m.\u001b[0m\u001b[0mif_exists\u001b[0m \u001b[1;33m==\u001b[0m \u001b[1;34m\"fail\"\u001b[0m\u001b[1;33m:\u001b[0m\u001b[1;33m\u001b[0m\u001b[1;33m\u001b[0m\u001b[0m\n\u001b[1;32m--> 858\u001b[1;33m                 \u001b[1;32mraise\u001b[0m \u001b[0mValueError\u001b[0m\u001b[1;33m(\u001b[0m\u001b[1;34mf\"Table '{self.name}' already exists.\"\u001b[0m\u001b[1;33m)\u001b[0m\u001b[1;33m\u001b[0m\u001b[1;33m\u001b[0m\u001b[0m\n\u001b[0m\u001b[0;32m    859\u001b[0m             \u001b[1;32melif\u001b[0m \u001b[0mself\u001b[0m\u001b[1;33m.\u001b[0m\u001b[0mif_exists\u001b[0m \u001b[1;33m==\u001b[0m \u001b[1;34m\"replace\"\u001b[0m\u001b[1;33m:\u001b[0m\u001b[1;33m\u001b[0m\u001b[1;33m\u001b[0m\u001b[0m\n\u001b[0;32m    860\u001b[0m                 \u001b[0mself\u001b[0m\u001b[1;33m.\u001b[0m\u001b[0mpd_sql\u001b[0m\u001b[1;33m.\u001b[0m\u001b[0mdrop_table\u001b[0m\u001b[1;33m(\u001b[0m\u001b[0mself\u001b[0m\u001b[1;33m.\u001b[0m\u001b[0mname\u001b[0m\u001b[1;33m,\u001b[0m \u001b[0mself\u001b[0m\u001b[1;33m.\u001b[0m\u001b[0mschema\u001b[0m\u001b[1;33m)\u001b[0m\u001b[1;33m\u001b[0m\u001b[1;33m\u001b[0m\u001b[0m\n",
      "\u001b[1;31mValueError\u001b[0m: Table 'games' already exists."
     ]
    }
   ],
   "source": [
    "from sqlalchemy import create_engine\n",
    "\n",
    "sql_create_table_reviews = \"\"\" CREATE TABLE IF NOT EXISTS reviews(\n",
    "                                    review_id integer PRIMARY KEY,\n",
    "                                    ID integer,\n",
    "                                    user text NOT NULL,\n",
    "                                    rating NOT NULL,\n",
    "                                    comment text,              \n",
    "                                    FOREIGN KEY(ID) REFERENCES games(ID));\"\"\"\n",
    "\n",
    "conn = create_con('bgg2022.db')\n",
    "# del_all_records(conn) # empty database (optional)\n",
    "\n",
    "if conn:\n",
    "    engine = create_engine('sqlite:///%s' % 'bgg2022.db', echo=True)\n",
    "    games[['ID','Name']].to_sql('games', con=engine)\n",
    "    # c = conn.cursor()\n",
    "    # c.execute(\"\"\" DROP TABLE IF EXISTS games\"\"\")\n",
    "    # create_table(conn, sql_create_table_games)\n",
    "    # c.execute(\"\"\" DROP TABLE IF EXISTS reviews\"\"\")\n",
    "    create_table(conn, sql_create_table_reviews)\n",
    "    count_reviews(conn)\n"
   ]
  },
  {
   "cell_type": "code",
   "execution_count": 5,
   "metadata": {},
   "outputs": [],
   "source": [
    "def gen_batches():\n",
    "    num_batches = len(games)//100\n",
    "    for b in range(num_batches):\n",
    "        result = slice(b*100,(b+1)*100)\n",
    "        if b*100>-1:\n",
    "            yield result\n",
    "    yield slice((b+1)*100,len(games)+1)\n",
    "    \n",
    "def number_rating_pages(game_id):\n",
    "    url = 'https://www.boardgamegeek.com/xmlapi2/thing?id='+str(game_id)+'&ratingcomments=1'\n",
    "    u = urllib.request.urlopen(url).read()#The url you want to open\n",
    "    doc = xmltodict.parse(u)\n",
    "    return math.ceil(int(doc['items']['item']['comments']['@totalitems'])/100)\n",
    "\n",
    "def get_url_result(ids,p): # given a url of an object and a page, return list of dicts with the comments\n",
    "    url = 'https://www.boardgamegeek.com/xmlapi2/thing?id='+ids+'&ratingcomments=1'\n",
    "    url += '&&page='+str(p)\n",
    "    u = urllib.request.urlopen(url).read()#The url you want to open\n",
    "    doc = xmltodict.parse(u)\n",
    "    return doc \n",
    "\n",
    "def process_result(url_result):\n",
    "    remove_list = []\n",
    "    for g in url_result['items']['item']:\n",
    "        if not isinstance(g, str):\n",
    "            if 'comment' in g['comments'].keys():\n",
    "                try:\n",
    "                    review_tup = [(g['@id'],) + tuple(review.values()) for review in g['comments']['comment']]\n",
    "                    # 'str' object has no attribute 'values' Traceback (most recent call last):\n",
    "                    create_reviews(conn,review_tup)\n",
    "                except Exception as e:\n",
    "                    print(e,traceback.format_exc())\n",
    "            else:\n",
    "                remove_list.append(int(g['@id']))\n",
    "        else:\n",
    "            print('crazy str',g)\n",
    "    return remove_list\n"
   ]
  },
  {
   "cell_type": "code",
   "execution_count": 110,
   "metadata": {
    "tags": []
   },
   "outputs": [
    {
     "name": "stdout",
     "output_type": "stream",
     "text": [
      "next query for page 1 for 100 games\n",
      "data retrieved\n",
      "next query for page 2 for 100 games\n",
      "data retrieved\n"
     ]
    }
   ],
   "source": [
    "conn = create_con('test.db')\n",
    "game_generator = gen_batches()\n",
    "\n",
    "# get all games, but do this per batch of 100 games\n",
    "for batch in game_generator: \n",
    "    print('new batch,', batch)\n",
    "    # list of games\n",
    "    games_in_batch = list(games['ID'][batch])\n",
    "    \n",
    "    #get maximum number of pages from game on top of the batch\n",
    "    num_pages = number_rating_pages(games_in_batch[0])+1\n",
    "    if num_pages>0:\n",
    "        # get all the pages, quering as little games as possible and store the results\n",
    "        for p in range(0,num_pages):\n",
    "            for tryout in range(5):\n",
    "                try:\n",
    "                    print('next query for page {} for {} games'.format(p,len(games_in_batch)))\n",
    "                    #print('games still in batch are \\n',games_in_batch)\n",
    "                    if not games_in_batch:\n",
    "                        print('gamelist empty!')\n",
    "                        break\n",
    "                    # convert list of current games to url input\n",
    "                    ids = ','.join(str(g) for g in games_in_batch)\n",
    "                    #query API and parse to dictionary\n",
    "                    url_result = get_url_result(ids,p)\n",
    "                    print('data retrieved')\n",
    "                    # remove games that have no comment, they dont have to be queried again\n",
    "                    removelist = process_result(url_result)\n",
    "                    #print('to remove',removelist)\n",
    "                    games_in_batch = [g for g in games_in_batch if g not in removelist]\n",
    "                    time.sleep(8)\n",
    "                    # if p%1000==0:\n",
    "                    #     with open('ratings.pickle', 'wb') as handle:\n",
    "                    #         pickle.dump(rating_dict, handle, protocol=pickle.HIGHEST_PROTOCOL)\n",
    "                    break\n",
    "                except Exception as e:\n",
    "                    print('error',tryout,p,e)\n",
    "                    time.sleep(30)\n",
    "print('all done')\n",
    "conn.close()"
   ]
  },
  {
   "cell_type": "markdown",
   "metadata": {},
   "source": [
    "## Preprocessing"
   ]
  },
  {
   "cell_type": "code",
   "execution_count": 25,
   "metadata": {},
   "outputs": [],
   "source": [
    "from database import DB\n",
    "%load_ext autoreload\n",
    "%autoreload 2"
   ]
  },
  {
   "cell_type": "code",
   "execution_count": 26,
   "metadata": {},
   "outputs": [
    {
     "name": "stdout",
     "output_type": "stream",
     "text": [
      "[('games', 21839), ('reviews', 18964823)]\n",
      "('reviews', 18964823)\n"
     ]
    },
    {
     "data": {
      "text/html": [
       "<div>\n",
       "<style scoped>\n",
       "    .dataframe tbody tr th:only-of-type {\n",
       "        vertical-align: middle;\n",
       "    }\n",
       "\n",
       "    .dataframe tbody tr th {\n",
       "        vertical-align: top;\n",
       "    }\n",
       "\n",
       "    .dataframe thead th {\n",
       "        text-align: right;\n",
       "    }\n",
       "</style>\n",
       "<table border=\"1\" class=\"dataframe\">\n",
       "  <thead>\n",
       "    <tr style=\"text-align: right;\">\n",
       "      <th></th>\n",
       "      <th>review_id</th>\n",
       "      <th>ID</th>\n",
       "      <th>user</th>\n",
       "      <th>rating</th>\n",
       "      <th>comment</th>\n",
       "    </tr>\n",
       "  </thead>\n",
       "  <tbody>\n",
       "    <tr>\n",
       "      <th>0</th>\n",
       "      <td>10101</td>\n",
       "      <td>30549</td>\n",
       "      <td>Torsten</td>\n",
       "      <td>10</td>\n",
       "      <td></td>\n",
       "    </tr>\n",
       "    <tr>\n",
       "      <th>1</th>\n",
       "      <td>10102</td>\n",
       "      <td>30549</td>\n",
       "      <td>mitnachtKAUBO-I</td>\n",
       "      <td>10</td>\n",
       "      <td>Hands down my favorite new game of BGG CON 200...</td>\n",
       "    </tr>\n",
       "    <tr>\n",
       "      <th>2</th>\n",
       "      <td>10103</td>\n",
       "      <td>30549</td>\n",
       "      <td>avlawn</td>\n",
       "      <td>10</td>\n",
       "      <td>I tend to either love or easily tire of co-op ...</td>\n",
       "    </tr>\n",
       "    <tr>\n",
       "      <th>3</th>\n",
       "      <td>10104</td>\n",
       "      <td>30549</td>\n",
       "      <td>Mike Mayer</td>\n",
       "      <td>10</td>\n",
       "      <td></td>\n",
       "    </tr>\n",
       "    <tr>\n",
       "      <th>4</th>\n",
       "      <td>10105</td>\n",
       "      <td>30549</td>\n",
       "      <td>Mease19</td>\n",
       "      <td>10</td>\n",
       "      <td>This is an amazing co-op game.  I play mostly ...</td>\n",
       "    </tr>\n",
       "  </tbody>\n",
       "</table>\n",
       "</div>"
      ],
      "text/plain": [
       "   review_id     ID             user rating  \\\n",
       "0      10101  30549          Torsten     10   \n",
       "1      10102  30549  mitnachtKAUBO-I     10   \n",
       "2      10103  30549           avlawn     10   \n",
       "3      10104  30549       Mike Mayer     10   \n",
       "4      10105  30549          Mease19     10   \n",
       "\n",
       "                                             comment  \n",
       "0                                                     \n",
       "1  Hands down my favorite new game of BGG CON 200...  \n",
       "2  I tend to either love or easily tire of co-op ...  \n",
       "3                                                     \n",
       "4  This is an amazing co-op game.  I play mostly ...  "
      ]
     },
     "execution_count": 26,
     "metadata": {},
     "output_type": "execute_result"
    }
   ],
   "source": [
    "db = DB('bgg2022.db')\n",
    "db.describe('reviews')"
   ]
  },
  {
   "cell_type": "code",
   "execution_count": 40,
   "metadata": {},
   "outputs": [
    {
     "data": {
      "text/plain": [
       "[]"
      ]
     },
     "execution_count": 40,
     "metadata": {},
     "output_type": "execute_result"
    }
   ],
   "source": [
    "sql = \"\"\"COMMIT;\n",
    "\"\"\"\n",
    "db(sql)"
   ]
  },
  {
   "cell_type": "code",
   "execution_count": 4,
   "metadata": {},
   "outputs": [
    {
     "name": "stdout",
     "output_type": "stream",
     "text": [
      "0 rows with nonmatching ID\n"
     ]
    },
    {
     "data": {
      "text/plain": [
       "[]"
      ]
     },
     "execution_count": 4,
     "metadata": {},
     "output_type": "execute_result"
    }
   ],
   "source": [
    "# Check if all game ID's are matching \n",
    "sql = \"\"\"\n",
    "SELECT ID FROM reviews\n",
    "WHERE ID NOT IN (SELECT ID FROM games) \"\"\"\n",
    "print(len(db(sql)), 'rows with nonmatching ID')\n",
    "\n",
    "sql = \"\"\"\n",
    "DELETE FROM reviews \n",
    "WHERE ID NOT IN (SELECT ID FROM games) \"\"\"\n",
    "db(sql)"
   ]
  },
  {
   "cell_type": "code",
   "execution_count": 5,
   "metadata": {},
   "outputs": [],
   "source": [
    "sql = \"\"\"   SELECT ID, user, COUNT(*)\n",
    "            FROM reviews \n",
    "            GROUP BY ID, user\n",
    "            HAVING COUNT(*) > 1\"\"\"\n",
    "res = db(sql)"
   ]
  },
  {
   "cell_type": "code",
   "execution_count": 6,
   "metadata": {},
   "outputs": [
    {
     "data": {
      "text/plain": [
       "2029653"
      ]
     },
     "execution_count": 6,
     "metadata": {},
     "output_type": "execute_result"
    }
   ],
   "source": [
    "len(res)"
   ]
  },
  {
   "cell_type": "code",
   "execution_count": 7,
   "metadata": {},
   "outputs": [
    {
     "name": "stdout",
     "output_type": "stream",
     "text": [
      "user pcstam reviewed Chess (171) 107 times\n",
      "user pcstam reviewed Dominoes (2394) 84 times\n",
      "user pcstam reviewed Backgammon (2397) 79 times\n",
      "user loopoocat reviewed Top Trumps (7262) 86 times\n",
      "user loopoocat reviewed Old Maid (10799) 201 times\n",
      "user loopoocat reviewed Snap (17003) 89 times\n",
      "user GrubyOi reviewed Warhammer 40,000: Codex (39169) 100 times\n",
      "user loopoocat reviewed Quartett (133425) 192 times\n"
     ]
    }
   ],
   "source": [
    "# certain users have many reviews for the same game in the db. Often, the score is given for a variant\n",
    "for gameid, user, times in res:\n",
    "    if times > 70:\n",
    "        sql = f\"   SELECT g.name, r.user FROM reviews r  JOIN games g ON g.ID = r.ID WHERE r.ID = {gameid} AND r.user = '{user}' GROUP BY 1,2\"      \n",
    "        game, user = db(sql)[0]\n",
    "        print(f'user {user} reviewed {game} ({gameid}) {times} times')"
   ]
  },
  {
   "cell_type": "code",
   "execution_count": 8,
   "metadata": {},
   "outputs": [
    {
     "data": {
      "text/html": [
       "<div>\n",
       "<style scoped>\n",
       "    .dataframe tbody tr th:only-of-type {\n",
       "        vertical-align: middle;\n",
       "    }\n",
       "\n",
       "    .dataframe tbody tr th {\n",
       "        vertical-align: top;\n",
       "    }\n",
       "\n",
       "    .dataframe thead th {\n",
       "        text-align: right;\n",
       "    }\n",
       "</style>\n",
       "<table border=\"1\" class=\"dataframe\">\n",
       "  <thead>\n",
       "    <tr style=\"text-align: right;\">\n",
       "      <th></th>\n",
       "      <th>review_id</th>\n",
       "      <th>ID</th>\n",
       "      <th>user</th>\n",
       "      <th>rating</th>\n",
       "      <th>comment</th>\n",
       "    </tr>\n",
       "  </thead>\n",
       "  <tbody>\n",
       "    <tr>\n",
       "      <th>0</th>\n",
       "      <td>15135942</td>\n",
       "      <td>10799</td>\n",
       "      <td>loopoocat</td>\n",
       "      <td>2</td>\n",
       "      <td></td>\n",
       "    </tr>\n",
       "    <tr>\n",
       "      <th>1</th>\n",
       "      <td>15085514</td>\n",
       "      <td>10799</td>\n",
       "      <td>loopoocat</td>\n",
       "      <td>3</td>\n",
       "      <td></td>\n",
       "    </tr>\n",
       "    <tr>\n",
       "      <th>2</th>\n",
       "      <td>15045069</td>\n",
       "      <td>10799</td>\n",
       "      <td>loopoocat</td>\n",
       "      <td>4</td>\n",
       "      <td></td>\n",
       "    </tr>\n",
       "    <tr>\n",
       "      <th>3</th>\n",
       "      <td>15014787</td>\n",
       "      <td>10799</td>\n",
       "      <td>loopoocat</td>\n",
       "      <td>5</td>\n",
       "      <td></td>\n",
       "    </tr>\n",
       "    <tr>\n",
       "      <th>4</th>\n",
       "      <td>15004626</td>\n",
       "      <td>10799</td>\n",
       "      <td>loopoocat</td>\n",
       "      <td>6</td>\n",
       "      <td></td>\n",
       "    </tr>\n",
       "    <tr>\n",
       "      <th>5</th>\n",
       "      <td>14984459</td>\n",
       "      <td>10799</td>\n",
       "      <td>loopoocat</td>\n",
       "      <td>7</td>\n",
       "      <td></td>\n",
       "    </tr>\n",
       "  </tbody>\n",
       "</table>\n",
       "</div>"
      ],
      "text/plain": [
       "   review_id     ID       user rating comment\n",
       "0   15135942  10799  loopoocat      2        \n",
       "1   15085514  10799  loopoocat      3        \n",
       "2   15045069  10799  loopoocat      4        \n",
       "3   15014787  10799  loopoocat      5        \n",
       "4   15004626  10799  loopoocat      6        \n",
       "5   14984459  10799  loopoocat      7        "
      ]
     },
     "execution_count": 8,
     "metadata": {},
     "output_type": "execute_result"
    }
   ],
   "source": [
    "# example\n",
    "db.df(\"SELECT * FROM reviews WHERE user = 'loopoocat' and ID = 10799 GROUP BY rating, comment LIMIT 10\")"
   ]
  },
  {
   "cell_type": "code",
   "execution_count": 9,
   "metadata": {},
   "outputs": [
    {
     "data": {
      "text/plain": [
       "2107129"
      ]
     },
     "execution_count": 9,
     "metadata": {},
     "output_type": "execute_result"
    }
   ],
   "source": [
    "sql = \"\"\"\n",
    "SELECT * FROM reviews\n",
    "    WHERE review_id NOT IN\n",
    "    (\n",
    "        SELECT MAX(review_id) AS MaxRecordID\n",
    "        FROM reviews\n",
    "        GROUP BY ID, user\n",
    "    );\n",
    "\"\"\"\n",
    "len(db(sql))"
   ]
  },
  {
   "cell_type": "markdown",
   "metadata": {},
   "source": [
    "The amount of duplicates is around 2 million"
   ]
  },
  {
   "cell_type": "code",
   "execution_count": 10,
   "metadata": {},
   "outputs": [
    {
     "data": {
      "text/plain": [
       "[]"
      ]
     },
     "execution_count": 10,
     "metadata": {},
     "output_type": "execute_result"
    }
   ],
   "source": [
    "sql = \"\"\"\n",
    "DELETE FROM reviews\n",
    "    WHERE review_id NOT IN\n",
    "    (\n",
    "        SELECT MAX(review_id) AS MaxRecordID\n",
    "        FROM reviews\n",
    "        GROUP BY ID, user\n",
    "    );\n",
    "\"\"\"\n",
    "db(sql)"
   ]
  },
  {
   "cell_type": "code",
   "execution_count": 12,
   "metadata": {},
   "outputs": [],
   "source": [
    "db.commit()"
   ]
  },
  {
   "cell_type": "code",
   "execution_count": 8,
   "metadata": {},
   "outputs": [
    {
     "ename": "NameError",
     "evalue": "name 'db' is not defined",
     "output_type": "error",
     "traceback": [
      "\u001b[1;31m---------------------------------------------------------------------------\u001b[0m",
      "\u001b[1;31mNameError\u001b[0m                                 Traceback (most recent call last)",
      "\u001b[1;32mC:\\Users\\GEBRUI~1\\AppData\\Local\\Temp/ipykernel_22240/1972664467.py\u001b[0m in \u001b[0;36m<module>\u001b[1;34m\u001b[0m\n\u001b[1;32m----> 1\u001b[1;33m \u001b[0mdb\u001b[0m\u001b[1;33m.\u001b[0m\u001b[0mcount\u001b[0m\u001b[1;33m(\u001b[0m\u001b[1;33m)\u001b[0m\u001b[1;33m\u001b[0m\u001b[1;33m\u001b[0m\u001b[0m\n\u001b[0m",
      "\u001b[1;31mNameError\u001b[0m: name 'db' is not defined"
     ]
    }
   ],
   "source": [
    "db.count()"
   ]
  },
  {
   "cell_type": "code",
   "execution_count": 18,
   "metadata": {
    "tags": []
   },
   "outputs": [
    {
     "name": "stdout",
     "output_type": "stream",
     "text": [
      "(18964823,)\n"
     ]
    }
   ],
   "source": [
    "conn = create_con('bgg2022.db')\n",
    "do_sql(conn, \"SELECT COUNT(*) FROM reviews\")"
   ]
  },
  {
   "cell_type": "code",
   "execution_count": 22,
   "metadata": {
    "tags": []
   },
   "outputs": [
    {
     "name": "stdout",
     "output_type": "stream",
     "text": [
      "user [(412831,)]\n",
      "rating [(10772,)]\n",
      "ID [(21839,)]\n"
     ]
    }
   ],
   "source": [
    "for val in ['user','rating','ID']:\n",
    "    print(val,conn.execute(\"SELECT COUNT(*) FROM (SELECT DISTINCT \"+ val +\" FROM reviews);\").fetchall())"
   ]
  },
  {
   "cell_type": "markdown",
   "metadata": {},
   "source": [
    "# Exporting DB to CSV"
   ]
  },
  {
   "cell_type": "code",
   "execution_count": 41,
   "metadata": {
    "tags": []
   },
   "outputs": [
    {
     "name": "stdout",
     "output_type": "stream",
     "text": [
      "[('games', 21839), ('reviews', 18964807)]\n"
     ]
    }
   ],
   "source": [
    "import pandas as pd\n",
    "import sqlite3\n",
    "from database import DB\n",
    "\n",
    "# Create your connection.\n",
    "conn = DB('bgg2022.db').conn\n",
    "\n",
    "df = pd.read_sql_query(\"SELECT * FROM reviews\", conn)"
   ]
  },
  {
   "cell_type": "code",
   "execution_count": 42,
   "metadata": {},
   "outputs": [],
   "source": [
    "df['ID'] = df['ID'].astype('int64')"
   ]
  },
  {
   "cell_type": "code",
   "execution_count": 43,
   "metadata": {},
   "outputs": [],
   "source": [
    "df = df.merge(games[['ID','Name']],on='ID',how='left')"
   ]
  },
  {
   "cell_type": "code",
   "execution_count": 44,
   "metadata": {},
   "outputs": [
    {
     "data": {
      "text/html": [
       "<div>\n",
       "<style scoped>\n",
       "    .dataframe tbody tr th:only-of-type {\n",
       "        vertical-align: middle;\n",
       "    }\n",
       "\n",
       "    .dataframe tbody tr th {\n",
       "        vertical-align: top;\n",
       "    }\n",
       "\n",
       "    .dataframe thead th {\n",
       "        text-align: right;\n",
       "    }\n",
       "</style>\n",
       "<table border=\"1\" class=\"dataframe\">\n",
       "  <thead>\n",
       "    <tr style=\"text-align: right;\">\n",
       "      <th></th>\n",
       "      <th>review_id</th>\n",
       "      <th>ID</th>\n",
       "      <th>user</th>\n",
       "      <th>rating</th>\n",
       "      <th>comment</th>\n",
       "      <th>Name</th>\n",
       "    </tr>\n",
       "  </thead>\n",
       "  <tbody>\n",
       "    <tr>\n",
       "      <th>0</th>\n",
       "      <td>10101</td>\n",
       "      <td>30549</td>\n",
       "      <td>Torsten</td>\n",
       "      <td>10</td>\n",
       "      <td></td>\n",
       "      <td>Pandemic</td>\n",
       "    </tr>\n",
       "    <tr>\n",
       "      <th>1</th>\n",
       "      <td>10102</td>\n",
       "      <td>30549</td>\n",
       "      <td>mitnachtKAUBO-I</td>\n",
       "      <td>10</td>\n",
       "      <td>Hands down my favorite new game of BGG CON 200...</td>\n",
       "      <td>Pandemic</td>\n",
       "    </tr>\n",
       "    <tr>\n",
       "      <th>2</th>\n",
       "      <td>10103</td>\n",
       "      <td>30549</td>\n",
       "      <td>avlawn</td>\n",
       "      <td>10</td>\n",
       "      <td>I tend to either love or easily tire of co-op ...</td>\n",
       "      <td>Pandemic</td>\n",
       "    </tr>\n",
       "    <tr>\n",
       "      <th>3</th>\n",
       "      <td>10104</td>\n",
       "      <td>30549</td>\n",
       "      <td>Mike Mayer</td>\n",
       "      <td>10</td>\n",
       "      <td></td>\n",
       "      <td>Pandemic</td>\n",
       "    </tr>\n",
       "    <tr>\n",
       "      <th>4</th>\n",
       "      <td>10105</td>\n",
       "      <td>30549</td>\n",
       "      <td>Mease19</td>\n",
       "      <td>10</td>\n",
       "      <td>This is an amazing co-op game.  I play mostly ...</td>\n",
       "      <td>Pandemic</td>\n",
       "    </tr>\n",
       "  </tbody>\n",
       "</table>\n",
       "</div>"
      ],
      "text/plain": [
       "   review_id     ID             user rating  \\\n",
       "0      10101  30549          Torsten     10   \n",
       "1      10102  30549  mitnachtKAUBO-I     10   \n",
       "2      10103  30549           avlawn     10   \n",
       "3      10104  30549       Mike Mayer     10   \n",
       "4      10105  30549          Mease19     10   \n",
       "\n",
       "                                             comment      Name  \n",
       "0                                                     Pandemic  \n",
       "1  Hands down my favorite new game of BGG CON 200...  Pandemic  \n",
       "2  I tend to either love or easily tire of co-op ...  Pandemic  \n",
       "3                                                     Pandemic  \n",
       "4  This is an amazing co-op game.  I play mostly ...  Pandemic  "
      ]
     },
     "execution_count": 44,
     "metadata": {},
     "output_type": "execute_result"
    }
   ],
   "source": [
    "df.head()"
   ]
  },
  {
   "cell_type": "code",
   "execution_count": 45,
   "metadata": {},
   "outputs": [
    {
     "data": {
      "text/plain": [
       "18964807"
      ]
     },
     "execution_count": 45,
     "metadata": {},
     "output_type": "execute_result"
    }
   ],
   "source": [
    "len(df)"
   ]
  },
  {
   "cell_type": "code",
   "execution_count": 46,
   "metadata": {},
   "outputs": [],
   "source": [
    "df.drop_duplicates(subset=None, keep='first', inplace=True, ignore_index=True)"
   ]
  },
  {
   "cell_type": "code",
   "execution_count": 47,
   "metadata": {},
   "outputs": [
    {
     "data": {
      "text/plain": [
       "18964807"
      ]
     },
     "execution_count": 47,
     "metadata": {},
     "output_type": "execute_result"
    }
   ],
   "source": [
    "len(df)"
   ]
  },
  {
   "cell_type": "code",
   "execution_count": 48,
   "metadata": {},
   "outputs": [],
   "source": [
    "df.drop_duplicates(subset=['user','ID'], keep='first', inplace=True, ignore_index=True)"
   ]
  },
  {
   "cell_type": "code",
   "execution_count": 49,
   "metadata": {},
   "outputs": [
    {
     "data": {
      "text/plain": [
       "18964807"
      ]
     },
     "execution_count": 49,
     "metadata": {},
     "output_type": "execute_result"
    }
   ],
   "source": [
    "len(df)"
   ]
  },
  {
   "cell_type": "code",
   "execution_count": 50,
   "metadata": {},
   "outputs": [
    {
     "data": {
      "text/plain": [
       "412816"
      ]
     },
     "execution_count": 50,
     "metadata": {},
     "output_type": "execute_result"
    }
   ],
   "source": [
    "df.rename(columns={'Name':'name'},inplace=True)\n",
    "df = df[['user', 'rating', 'comment', 'ID', 'name']]"
   ]
  },
  {
   "cell_type": "code",
   "execution_count": 60,
   "metadata": {},
   "outputs": [
    {
     "data": {
      "text/plain": [
       "0           10.0\n",
       "1           10.0\n",
       "2           10.0\n",
       "3           10.0\n",
       "4           10.0\n",
       "            ... \n",
       "18964802     3.1\n",
       "18964803     2.0\n",
       "18964804     2.0\n",
       "18964805     1.0\n",
       "18964806     1.0\n",
       "Name: rating, Length: 18964807, dtype: float64"
      ]
     },
     "execution_count": 60,
     "metadata": {},
     "output_type": "execute_result"
    }
   ],
   "source": []
  },
  {
   "cell_type": "code",
   "execution_count": 71,
   "metadata": {},
   "outputs": [],
   "source": [
    "# with .loc to don't get the copy warning\n",
    "df.loc[:,[\"rating\"]] = pd.to_numeric(df[\"rating\"])\n",
    "df.loc[:,[\"ID\"]] = pd.to_numeric(df[\"ID\"])\n",
    "df.loc[:,['name']] = pd.Categorical(df['name'])"
   ]
  },
  {
   "cell_type": "code",
   "execution_count": 72,
   "metadata": {},
   "outputs": [],
   "source": [
    "filename = 'bgg-19m-reviews.csv'\n",
    "df.to_csv(filename)"
   ]
  },
  {
   "cell_type": "markdown",
   "metadata": {},
   "source": [
    "### Importing to check if ok"
   ]
  },
  {
   "cell_type": "code",
   "execution_count": 73,
   "metadata": {},
   "outputs": [],
   "source": [
    "import pandas as pd\n",
    "import sqlite3\n",
    "reviews = pd.read_csv('bgg-19m-reviews.csv',index_col=0)\n",
    "reviews.head()"
   ]
  },
  {
   "cell_type": "code",
   "execution_count": 74,
   "metadata": {},
   "outputs": [
    {
     "data": {
      "text/html": [
       "<div>\n",
       "<style scoped>\n",
       "    .dataframe tbody tr th:only-of-type {\n",
       "        vertical-align: middle;\n",
       "    }\n",
       "\n",
       "    .dataframe tbody tr th {\n",
       "        vertical-align: top;\n",
       "    }\n",
       "\n",
       "    .dataframe thead th {\n",
       "        text-align: right;\n",
       "    }\n",
       "</style>\n",
       "<table border=\"1\" class=\"dataframe\">\n",
       "  <thead>\n",
       "    <tr style=\"text-align: right;\">\n",
       "      <th></th>\n",
       "      <th>user</th>\n",
       "      <th>rating</th>\n",
       "      <th>comment</th>\n",
       "      <th>ID</th>\n",
       "      <th>name</th>\n",
       "    </tr>\n",
       "  </thead>\n",
       "  <tbody>\n",
       "    <tr>\n",
       "      <th>0</th>\n",
       "      <td>Torsten</td>\n",
       "      <td>10.0</td>\n",
       "      <td>NaN</td>\n",
       "      <td>30549</td>\n",
       "      <td>Pandemic</td>\n",
       "    </tr>\n",
       "    <tr>\n",
       "      <th>1</th>\n",
       "      <td>mitnachtKAUBO-I</td>\n",
       "      <td>10.0</td>\n",
       "      <td>Hands down my favorite new game of BGG CON 200...</td>\n",
       "      <td>30549</td>\n",
       "      <td>Pandemic</td>\n",
       "    </tr>\n",
       "    <tr>\n",
       "      <th>2</th>\n",
       "      <td>avlawn</td>\n",
       "      <td>10.0</td>\n",
       "      <td>I tend to either love or easily tire of co-op ...</td>\n",
       "      <td>30549</td>\n",
       "      <td>Pandemic</td>\n",
       "    </tr>\n",
       "    <tr>\n",
       "      <th>3</th>\n",
       "      <td>Mike Mayer</td>\n",
       "      <td>10.0</td>\n",
       "      <td>NaN</td>\n",
       "      <td>30549</td>\n",
       "      <td>Pandemic</td>\n",
       "    </tr>\n",
       "    <tr>\n",
       "      <th>4</th>\n",
       "      <td>Mease19</td>\n",
       "      <td>10.0</td>\n",
       "      <td>This is an amazing co-op game.  I play mostly ...</td>\n",
       "      <td>30549</td>\n",
       "      <td>Pandemic</td>\n",
       "    </tr>\n",
       "  </tbody>\n",
       "</table>\n",
       "</div>"
      ],
      "text/plain": [
       "              user  rating                                            comment  \\\n",
       "0          Torsten    10.0                                                NaN   \n",
       "1  mitnachtKAUBO-I    10.0  Hands down my favorite new game of BGG CON 200...   \n",
       "2           avlawn    10.0  I tend to either love or easily tire of co-op ...   \n",
       "3       Mike Mayer    10.0                                                NaN   \n",
       "4          Mease19    10.0  This is an amazing co-op game.  I play mostly ...   \n",
       "\n",
       "      ID      name  \n",
       "0  30549  Pandemic  \n",
       "1  30549  Pandemic  \n",
       "2  30549  Pandemic  \n",
       "3  30549  Pandemic  \n",
       "4  30549  Pandemic  "
      ]
     },
     "execution_count": 74,
     "metadata": {},
     "output_type": "execute_result"
    }
   ],
   "source": [
    "reviews.head()"
   ]
  }
 ],
 "metadata": {
  "file_extension": ".py",
  "interpreter": {
   "hash": "b89b5cfaba6639976dc87ff2fec6d58faec662063367e2c229c520fe71072417"
  },
  "kernelspec": {
   "display_name": "Python 3.7.3 64-bit ('ProgramData': virtualenv)",
   "language": "python",
   "name": "python3"
  },
  "language_info": {
   "codemirror_mode": {
    "name": "ipython",
    "version": 3
   },
   "file_extension": ".py",
   "mimetype": "text/x-python",
   "name": "python",
   "nbconvert_exporter": "python",
   "pygments_lexer": "ipython3",
   "version": "3.10.0"
  },
  "mimetype": "text/x-python",
  "name": "python",
  "npconvert_exporter": "python",
  "pygments_lexer": "ipython3",
  "version": 3
 },
 "nbformat": 4,
 "nbformat_minor": 2
}
