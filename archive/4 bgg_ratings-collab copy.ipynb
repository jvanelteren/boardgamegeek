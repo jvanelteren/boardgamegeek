{
 "cells": [
  {
   "cell_type": "markdown",
   "metadata": {},
   "source": [
    "## Data loading"
   ]
  },
  {
   "cell_type": "code",
   "execution_count": 1,
   "metadata": {},
   "outputs": [],
   "source": [
    "import pandas as pd\n",
    "import torch\n",
    "from sklearn.metrics import log_loss, roc_auc_score\n",
    "from sklearn.model_selection import train_test_split\n",
    "from sklearn.preprocessing import LabelEncoder, MinMaxScaler"
   ]
  },
  {
   "cell_type": "code",
   "execution_count": 31,
   "metadata": {},
   "outputs": [],
   "source": [
    "import pandas as pd\n",
    "import pickle\n",
    "import numpy as np\n",
    "from fastai.collab import *\n",
    "from pprint import pprint\n",
    "import matplotlib.pyplot as plt\n",
    "from scipy import stats\n",
    "%matplotlib inline\n",
    "from operator import itemgetter"
   ]
  },
  {
   "cell_type": "code",
   "execution_count": 2,
   "metadata": {},
   "outputs": [],
   "source": [
    "from urllib.request import urlopen\n",
    "# the original csv from https://raw.githubusercontent.com/beefsack/bgg-ranking-historicals/master/\n",
    "# The column ID is used in API calls to retrieve the game reviews\n",
    "link=\"https://raw.githubusercontent.com/beefsack/bgg-ranking-historicals/master/2019-05-30.csv\"\n",
    "f = urlopen(link)\n",
    "games = pd.read_csv(f)\n",
    "games.describe()\n",
    "games.sort_values('Users rated',ascending=False,inplace=True)\n",
    "games.rename(index=str, columns={\"Bayes average\": \"Geekscore\",'Name':'name'}, inplace=True)"
   ]
  },
  {
   "cell_type": "code",
   "execution_count": 92,
   "metadata": {},
   "outputs": [
    {
     "name": "stdout",
     "output_type": "stream",
     "text": [
      "18964807\n"
     ]
    }
   ],
   "source": [
    "# load the file I composed with all the reviews\n",
    "\n",
    "reviews = pd.read_csv('bgg-19m-reviews.csv', index_col=0)\n",
    "print(len(reviews))\n",
    "reviews.head()\n",
    "reviews = reviews.sample(frac=0.002)"
   ]
  },
  {
   "cell_type": "code",
   "execution_count": null,
   "metadata": {},
   "outputs": [],
   "source": []
  },
  {
   "cell_type": "code",
   "execution_count": 93,
   "metadata": {},
   "outputs": [
    {
     "name": "stdout",
     "output_type": "stream",
     "text": [
      "7724\n"
     ]
    },
    {
     "data": {
      "text/html": [
       "<div>\n",
       "<style scoped>\n",
       "    .dataframe tbody tr th:only-of-type {\n",
       "        vertical-align: middle;\n",
       "    }\n",
       "\n",
       "    .dataframe tbody tr th {\n",
       "        vertical-align: top;\n",
       "    }\n",
       "\n",
       "    .dataframe thead th {\n",
       "        text-align: right;\n",
       "    }\n",
       "</style>\n",
       "<table border=\"1\" class=\"dataframe\">\n",
       "  <thead>\n",
       "    <tr style=\"text-align: right;\">\n",
       "      <th></th>\n",
       "      <th>mean</th>\n",
       "      <th>count</th>\n",
       "      <th>rank</th>\n",
       "    </tr>\n",
       "    <tr>\n",
       "      <th>name</th>\n",
       "      <th></th>\n",
       "      <th></th>\n",
       "      <th></th>\n",
       "    </tr>\n",
       "  </thead>\n",
       "  <tbody>\n",
       "    <tr>\n",
       "      <th>Saipan: Conquest of the Marianas, June 1944</th>\n",
       "      <td>10.0</td>\n",
       "      <td>1</td>\n",
       "      <td>1</td>\n",
       "    </tr>\n",
       "    <tr>\n",
       "      <th>Monopoly: Nintendo Collector's Edition</th>\n",
       "      <td>10.0</td>\n",
       "      <td>1</td>\n",
       "      <td>2</td>\n",
       "    </tr>\n",
       "    <tr>\n",
       "      <th>Dark Ages: Heritage of Charlemagne</th>\n",
       "      <td>10.0</td>\n",
       "      <td>1</td>\n",
       "      <td>3</td>\n",
       "    </tr>\n",
       "    <tr>\n",
       "      <th>Lucky Forward: Patton's Third Army in Lorraine</th>\n",
       "      <td>10.0</td>\n",
       "      <td>1</td>\n",
       "      <td>4</td>\n",
       "    </tr>\n",
       "    <tr>\n",
       "      <th>Clue: The Haunted Mansion</th>\n",
       "      <td>10.0</td>\n",
       "      <td>1</td>\n",
       "      <td>5</td>\n",
       "    </tr>\n",
       "  </tbody>\n",
       "</table>\n",
       "</div>"
      ],
      "text/plain": [
       "                                                mean  count  rank\n",
       "name                                                             \n",
       "Saipan: Conquest of the Marianas, June 1944     10.0      1     1\n",
       "Monopoly: Nintendo Collector's Edition          10.0      1     2\n",
       "Dark Ages: Heritage of Charlemagne              10.0      1     3\n",
       "Lucky Forward: Patton's Third Army in Lorraine  10.0      1     4\n",
       "Clue: The Haunted Mansion                       10.0      1     5"
      ]
     },
     "execution_count": 93,
     "metadata": {},
     "output_type": "execute_result"
    }
   ],
   "source": [
    "games_by_all_users = reviews.groupby('name')['rating'].agg(['mean','count']).sort_values('mean',ascending=False)\n",
    "games_by_all_users['rank']=games_by_all_users.reset_index().index+1\n",
    "print(len(games_by_all_users))\n",
    "games_by_all_users.head()"
   ]
  },
  {
   "cell_type": "markdown",
   "metadata": {},
   "source": [
    "## Collaborative Filtering using Fast.ai library"
   ]
  },
  {
   "cell_type": "code",
   "execution_count": 94,
   "metadata": {},
   "outputs": [
    {
     "data": {
      "text/html": [
       "<table border=\"1\" class=\"dataframe\">\n",
       "  <thead>\n",
       "    <tr style=\"text-align: right;\">\n",
       "      <th></th>\n",
       "      <th>user</th>\n",
       "      <th>name</th>\n",
       "      <th>rating</th>\n",
       "    </tr>\n",
       "  </thead>\n",
       "  <tbody>\n",
       "    <tr>\n",
       "      <th>0</th>\n",
       "      <td>shilinski</td>\n",
       "      <td>Cleopatra and the Society of Architects</td>\n",
       "      <td>5.0</td>\n",
       "    </tr>\n",
       "    <tr>\n",
       "      <th>1</th>\n",
       "      <td>reddawg19</td>\n",
       "      <td>Waterloo Campaign 1815</td>\n",
       "      <td>6.0</td>\n",
       "    </tr>\n",
       "    <tr>\n",
       "      <th>2</th>\n",
       "      <td>jpatel02</td>\n",
       "      <td>Race for the Galaxy</td>\n",
       "      <td>10.0</td>\n",
       "    </tr>\n",
       "    <tr>\n",
       "      <th>3</th>\n",
       "      <td>HillKing</td>\n",
       "      <td>Vegas Showdown</td>\n",
       "      <td>7.0</td>\n",
       "    </tr>\n",
       "    <tr>\n",
       "      <th>4</th>\n",
       "      <td>jcmdoom</td>\n",
       "      <td>Tokaido</td>\n",
       "      <td>6.0</td>\n",
       "    </tr>\n",
       "    <tr>\n",
       "      <th>5</th>\n",
       "      <td>Brooster</td>\n",
       "      <td>Kingdomino</td>\n",
       "      <td>6.5</td>\n",
       "    </tr>\n",
       "    <tr>\n",
       "      <th>6</th>\n",
       "      <td>ChazIsidore</td>\n",
       "      <td>Diplomacy</td>\n",
       "      <td>5.0</td>\n",
       "    </tr>\n",
       "    <tr>\n",
       "      <th>7</th>\n",
       "      <td>tkanttila</td>\n",
       "      <td>Kingsport Festival</td>\n",
       "      <td>7.0</td>\n",
       "    </tr>\n",
       "    <tr>\n",
       "      <th>8</th>\n",
       "      <td>gosav</td>\n",
       "      <td>Dungeons &amp; Dragons: The Legend of Drizzt Board Game</td>\n",
       "      <td>8.5</td>\n",
       "    </tr>\n",
       "    <tr>\n",
       "      <th>9</th>\n",
       "      <td>KatyAdams</td>\n",
       "      <td>Euphoria: Build a Better Dystopia</td>\n",
       "      <td>9.5</td>\n",
       "    </tr>\n",
       "  </tbody>\n",
       "</table>"
      ],
      "text/plain": [
       "<IPython.core.display.HTML object>"
      ]
     },
     "metadata": {},
     "output_type": "display_data"
    }
   ],
   "source": [
    "dls = CollabDataLoaders.from_df(reviews, bs=64, item_name='name', user_name='user', rating_name='rating', seed = 112)\n",
    "dls.show_batch()"
   ]
  },
  {
   "cell_type": "code",
   "execution_count": 99,
   "metadata": {},
   "outputs": [],
   "source": [
    "learn = collab_learner(dls, y_range=(1,10.5))\n"
   ]
  },
  {
   "cell_type": "code",
   "execution_count": 100,
   "metadata": {},
   "outputs": [
    {
     "data": {
      "text/html": [],
      "text/plain": [
       "<IPython.core.display.HTML object>"
      ]
     },
     "metadata": {},
     "output_type": "display_data"
    },
    {
     "data": {
      "text/plain": [
       "SuggestedLRs(valley=0.05754399299621582)"
      ]
     },
     "execution_count": 100,
     "metadata": {},
     "output_type": "execute_result"
    },
    {
     "data": {
      "image/png": "[encoded data removed]",
      "text/plain": [
       "<Figure size 432x288 with 1 Axes>"
      ]
     },
     "metadata": {
      "needs_background": "light"
     },
     "output_type": "display_data"
    }
   ],
   "source": [
    "learn.lr_find()\n",
    "# learn.recorder.plot()"
   ]
  },
  {
   "cell_type": "code",
   "execution_count": 102,
   "metadata": {},
   "outputs": [
    {
     "data": {
      "text/html": [
       "<table border=\"1\" class=\"dataframe\">\n",
       "  <thead>\n",
       "    <tr style=\"text-align: left;\">\n",
       "      <th>epoch</th>\n",
       "      <th>train_loss</th>\n",
       "      <th>valid_loss</th>\n",
       "      <th>time</th>\n",
       "    </tr>\n",
       "  </thead>\n",
       "  <tbody>\n",
       "    <tr>\n",
       "      <td>0</td>\n",
       "      <td>1.562256</td>\n",
       "      <td>2.683156</td>\n",
       "      <td>00:02</td>\n",
       "    </tr>\n",
       "    <tr>\n",
       "      <td>1</td>\n",
       "      <td>2.529624</td>\n",
       "      <td>2.758448</td>\n",
       "      <td>00:02</td>\n",
       "    </tr>\n",
       "    <tr>\n",
       "      <td>2</td>\n",
       "      <td>2.314545</td>\n",
       "      <td>2.550054</td>\n",
       "      <td>00:03</td>\n",
       "    </tr>\n",
       "    <tr>\n",
       "      <td>3</td>\n",
       "      <td>1.769595</td>\n",
       "      <td>2.425257</td>\n",
       "      <td>00:03</td>\n",
       "    </tr>\n",
       "    <tr>\n",
       "      <td>4</td>\n",
       "      <td>1.179376</td>\n",
       "      <td>2.422596</td>\n",
       "      <td>00:03</td>\n",
       "    </tr>\n",
       "  </tbody>\n",
       "</table>"
      ],
      "text/plain": [
       "<IPython.core.display.HTML object>"
      ]
     },
     "metadata": {},
     "output_type": "display_data"
    }
   ],
   "source": [
    "learn.fit_one_cycle(5, lr_max=0.0531763744354248, wd=0.1)"
   ]
  },
  {
   "cell_type": "code",
   "execution_count": 71,
   "metadata": {},
   "outputs": [
    {
     "ename": "AttributeError",
     "evalue": "'EmbeddingDotBias' object has no attribute 'plot_losses'",
     "output_type": "error",
     "traceback": [
      "\u001b[1;31m---------------------------------------------------------------------------\u001b[0m",
      "\u001b[1;31mAttributeError\u001b[0m                            Traceback (most recent call last)",
      "\u001b[1;32mC:\\Users\\GEBRUI~1\\AppData\\Local\\Temp/ipykernel_7980/1514139749.py\u001b[0m in \u001b[0;36m<module>\u001b[1;34m\u001b[0m\n\u001b[1;32m----> 1\u001b[1;33m \u001b[0mlearn\u001b[0m\u001b[1;33m.\u001b[0m\u001b[0mrecorder\u001b[0m\u001b[1;33m.\u001b[0m\u001b[0mplot_losses\u001b[0m\u001b[1;33m(\u001b[0m\u001b[1;33m)\u001b[0m\u001b[1;33m\u001b[0m\u001b[1;33m\u001b[0m\u001b[0m\n\u001b[0m",
      "\u001b[1;32m~\\AppData\\Roaming\\Python\\Python39\\site-packages\\fastcore\\basics.py\u001b[0m in \u001b[0;36m__getattr__\u001b[1;34m(self, k)\u001b[0m\n\u001b[0;32m    387\u001b[0m         \u001b[1;32mif\u001b[0m \u001b[0mself\u001b[0m\u001b[1;33m.\u001b[0m\u001b[0m_component_attr_filter\u001b[0m\u001b[1;33m(\u001b[0m\u001b[0mk\u001b[0m\u001b[1;33m)\u001b[0m\u001b[1;33m:\u001b[0m\u001b[1;33m\u001b[0m\u001b[1;33m\u001b[0m\u001b[0m\n\u001b[0;32m    388\u001b[0m             \u001b[0mattr\u001b[0m \u001b[1;33m=\u001b[0m \u001b[0mgetattr\u001b[0m\u001b[1;33m(\u001b[0m\u001b[0mself\u001b[0m\u001b[1;33m,\u001b[0m\u001b[0mself\u001b[0m\u001b[1;33m.\u001b[0m\u001b[0m_default\u001b[0m\u001b[1;33m,\u001b[0m\u001b[1;32mNone\u001b[0m\u001b[1;33m)\u001b[0m\u001b[1;33m\u001b[0m\u001b[1;33m\u001b[0m\u001b[0m\n\u001b[1;32m--> 389\u001b[1;33m             \u001b[1;32mif\u001b[0m \u001b[0mattr\u001b[0m \u001b[1;32mis\u001b[0m \u001b[1;32mnot\u001b[0m \u001b[1;32mNone\u001b[0m\u001b[1;33m:\u001b[0m \u001b[1;32mreturn\u001b[0m \u001b[0mgetattr\u001b[0m\u001b[1;33m(\u001b[0m\u001b[0mattr\u001b[0m\u001b[1;33m,\u001b[0m\u001b[0mk\u001b[0m\u001b[1;33m)\u001b[0m\u001b[1;33m\u001b[0m\u001b[1;33m\u001b[0m\u001b[0m\n\u001b[0m\u001b[0;32m    390\u001b[0m         \u001b[1;32mraise\u001b[0m \u001b[0mAttributeError\u001b[0m\u001b[1;33m(\u001b[0m\u001b[0mk\u001b[0m\u001b[1;33m)\u001b[0m\u001b[1;33m\u001b[0m\u001b[1;33m\u001b[0m\u001b[0m\n\u001b[0;32m    391\u001b[0m     \u001b[1;32mdef\u001b[0m \u001b[0m__dir__\u001b[0m\u001b[1;33m(\u001b[0m\u001b[0mself\u001b[0m\u001b[1;33m)\u001b[0m\u001b[1;33m:\u001b[0m \u001b[1;32mreturn\u001b[0m \u001b[0mcustom_dir\u001b[0m\u001b[1;33m(\u001b[0m\u001b[0mself\u001b[0m\u001b[1;33m,\u001b[0m\u001b[0mself\u001b[0m\u001b[1;33m.\u001b[0m\u001b[0m_dir\u001b[0m\u001b[1;33m(\u001b[0m\u001b[1;33m)\u001b[0m\u001b[1;33m)\u001b[0m\u001b[1;33m\u001b[0m\u001b[1;33m\u001b[0m\u001b[0m\n",
      "\u001b[1;32m~\\AppData\\Roaming\\Python\\Python39\\site-packages\\fastcore\\basics.py\u001b[0m in \u001b[0;36m__getattr__\u001b[1;34m(self, k)\u001b[0m\n\u001b[0;32m    387\u001b[0m         \u001b[1;32mif\u001b[0m \u001b[0mself\u001b[0m\u001b[1;33m.\u001b[0m\u001b[0m_component_attr_filter\u001b[0m\u001b[1;33m(\u001b[0m\u001b[0mk\u001b[0m\u001b[1;33m)\u001b[0m\u001b[1;33m:\u001b[0m\u001b[1;33m\u001b[0m\u001b[1;33m\u001b[0m\u001b[0m\n\u001b[0;32m    388\u001b[0m             \u001b[0mattr\u001b[0m \u001b[1;33m=\u001b[0m \u001b[0mgetattr\u001b[0m\u001b[1;33m(\u001b[0m\u001b[0mself\u001b[0m\u001b[1;33m,\u001b[0m\u001b[0mself\u001b[0m\u001b[1;33m.\u001b[0m\u001b[0m_default\u001b[0m\u001b[1;33m,\u001b[0m\u001b[1;32mNone\u001b[0m\u001b[1;33m)\u001b[0m\u001b[1;33m\u001b[0m\u001b[1;33m\u001b[0m\u001b[0m\n\u001b[1;32m--> 389\u001b[1;33m             \u001b[1;32mif\u001b[0m \u001b[0mattr\u001b[0m \u001b[1;32mis\u001b[0m \u001b[1;32mnot\u001b[0m \u001b[1;32mNone\u001b[0m\u001b[1;33m:\u001b[0m \u001b[1;32mreturn\u001b[0m \u001b[0mgetattr\u001b[0m\u001b[1;33m(\u001b[0m\u001b[0mattr\u001b[0m\u001b[1;33m,\u001b[0m\u001b[0mk\u001b[0m\u001b[1;33m)\u001b[0m\u001b[1;33m\u001b[0m\u001b[1;33m\u001b[0m\u001b[0m\n\u001b[0m\u001b[0;32m    390\u001b[0m         \u001b[1;32mraise\u001b[0m \u001b[0mAttributeError\u001b[0m\u001b[1;33m(\u001b[0m\u001b[0mk\u001b[0m\u001b[1;33m)\u001b[0m\u001b[1;33m\u001b[0m\u001b[1;33m\u001b[0m\u001b[0m\n\u001b[0;32m    391\u001b[0m     \u001b[1;32mdef\u001b[0m \u001b[0m__dir__\u001b[0m\u001b[1;33m(\u001b[0m\u001b[0mself\u001b[0m\u001b[1;33m)\u001b[0m\u001b[1;33m:\u001b[0m \u001b[1;32mreturn\u001b[0m \u001b[0mcustom_dir\u001b[0m\u001b[1;33m(\u001b[0m\u001b[0mself\u001b[0m\u001b[1;33m,\u001b[0m\u001b[0mself\u001b[0m\u001b[1;33m.\u001b[0m\u001b[0m_dir\u001b[0m\u001b[1;33m(\u001b[0m\u001b[1;33m)\u001b[0m\u001b[1;33m)\u001b[0m\u001b[1;33m\u001b[0m\u001b[1;33m\u001b[0m\u001b[0m\n",
      "\u001b[1;32m~\\AppData\\Roaming\\Python\\Python39\\site-packages\\torch\\nn\\modules\\module.py\u001b[0m in \u001b[0;36m__getattr__\u001b[1;34m(self, name)\u001b[0m\n\u001b[0;32m   1175\u001b[0m             \u001b[1;32mif\u001b[0m \u001b[0mname\u001b[0m \u001b[1;32min\u001b[0m \u001b[0mmodules\u001b[0m\u001b[1;33m:\u001b[0m\u001b[1;33m\u001b[0m\u001b[1;33m\u001b[0m\u001b[0m\n\u001b[0;32m   1176\u001b[0m                 \u001b[1;32mreturn\u001b[0m \u001b[0mmodules\u001b[0m\u001b[1;33m[\u001b[0m\u001b[0mname\u001b[0m\u001b[1;33m]\u001b[0m\u001b[1;33m\u001b[0m\u001b[1;33m\u001b[0m\u001b[0m\n\u001b[1;32m-> 1177\u001b[1;33m         raise AttributeError(\"'{}' object has no attribute '{}'\".format(\n\u001b[0m\u001b[0;32m   1178\u001b[0m             type(self).__name__, name))\n\u001b[0;32m   1179\u001b[0m \u001b[1;33m\u001b[0m\u001b[0m\n",
      "\u001b[1;31mAttributeError\u001b[0m: 'EmbeddingDotBias' object has no attribute 'plot_losses'"
     ]
    }
   ],
   "source": [
    "learn.recorder.plot_losses()"
   ]
  },
  {
   "cell_type": "code",
   "execution_count": 72,
   "metadata": {},
   "outputs": [
    {
     "data": {
      "text/plain": [
       "EmbeddingDotBias(\n",
       "  (u_weight): Embedding(255046, 50)\n",
       "  (i_weight): Embedding(21356, 50)\n",
       "  (u_bias): Embedding(255046, 1)\n",
       "  (i_bias): Embedding(21356, 1)\n",
       ")"
      ]
     },
     "execution_count": 72,
     "metadata": {},
     "output_type": "execute_result"
    }
   ],
   "source": [
    "learn.model"
   ]
  },
  {
   "cell_type": "code",
   "execution_count": 73,
   "metadata": {},
   "outputs": [
    {
     "data": {
      "text/plain": [
       "array(['Carcassonne', 'Pandemic', 'Catan', '7 Wonders', 'Dominion',\n",
       "       'Ticket to Ride', 'Codenames', 'Terraforming Mars',\n",
       "       '7 Wonders Duel', 'Agricola'], dtype=object)"
      ]
     },
     "execution_count": 73,
     "metadata": {},
     "output_type": "execute_result"
    }
   ],
   "source": [
    "g = reviews.groupby('name')['rating'].count()\n",
    "top_movies = g.sort_values(ascending=False).index.values[:1000]\n",
    "top_movies[:10]"
   ]
  },
  {
   "cell_type": "code",
   "execution_count": 74,
   "metadata": {},
   "outputs": [
    {
     "data": {
      "text/plain": [
       "torch.Size([1000])"
      ]
     },
     "execution_count": 74,
     "metadata": {},
     "output_type": "execute_result"
    }
   ],
   "source": [
    "movie_bias = learn.model.bias(top_movies, is_item=True)\n",
    "movie_bias.shape"
   ]
  },
  {
   "cell_type": "code",
   "execution_count": 75,
   "metadata": {},
   "outputs": [],
   "source": [
    "mean_ratings = reviews.groupby('name')['rating'].mean()\n",
    "movie_ratings = [(b, i, mean_ratings.loc[i]) for i,b in zip(top_movies,movie_bias)]"
   ]
  },
  {
   "cell_type": "code",
   "execution_count": 76,
   "metadata": {},
   "outputs": [
    {
     "data": {
      "text/plain": [
       "[(tensor(-1.3928), 'Chutes and Ladders', 2.825349397590361),\n",
       " (tensor(-1.1278), 'Candy Land', 3.0440618101545254),\n",
       " (tensor(-0.6474), 'Operation', 4.079349397590361),\n",
       " (tensor(-0.5453), 'Monopoly', 4.325537042614546),\n",
       " (tensor(-0.4668), 'The Game of Life', 4.314056088464874),\n",
       " (tensor(-0.4055), 'Battleship', 4.6715153723404255),\n",
       " (tensor(-0.4027), 'Sorry!', 4.497415730337078),\n",
       " (tensor(-0.3600), 'Twister', 4.506192893401016),\n",
       " (tensor(-0.3281), 'Pachisi', 4.461059602649007),\n",
       " (tensor(-0.3269), 'Guess Who?', 4.735505617977529),\n",
       " (tensor(-0.2325), 'Trivial Pursuit: Genus Edition', 4.993042944785276),\n",
       " (tensor(-0.2292), 'Connect Four', 4.87081718367347),\n",
       " (tensor(-0.2066), 'Chinese Checkers', 5.142302483069978),\n",
       " (tensor(-0.1707), 'Checkers', 4.881630847029077),\n",
       " (tensor(-0.1345), 'Pass the Pigs', 5.2587711558669)]"
      ]
     },
     "execution_count": 76,
     "metadata": {},
     "output_type": "execute_result"
    }
   ],
   "source": [
    "item0 = lambda o:o[0]\n",
    "sorted(movie_ratings, key=item0)[:15]"
   ]
  },
  {
   "cell_type": "code",
   "execution_count": 77,
   "metadata": {},
   "outputs": [
    {
     "data": {
      "text/plain": [
       "[(tensor(1.9241), 'Twilight Imperium: Fourth Edition', 8.642056885245902),\n",
       " (tensor(1.8787), 'Kingdom Death: Monster', 8.576780821917808),\n",
       " (tensor(1.8654), 'Gloomhaven', 8.792158811612364),\n",
       " (tensor(1.8423),\n",
       "  'Clank!: Legacy – Acquisitions Incorporated',\n",
       "  8.673530303030303),\n",
       " (tensor(1.8366), 'Eclipse: Second Dawn for the Galaxy', 8.682764221388368),\n",
       " (tensor(1.8107), 'Brass: Birmingham', 8.642893493230174),\n",
       " (tensor(1.7708), 'Gloomhaven: Jaws of the Lion', 8.686771497261107),\n",
       " (tensor(1.7362), 'Pandemic Legacy: Season 1', 8.6008892154767),\n",
       " (tensor(1.6863), 'War of the Ring: Second Edition', 8.506022369127518),\n",
       " (tensor(1.6226), 'Nemesis', 8.406019924160347),\n",
       " (tensor(1.6177), 'Too Many Bones', 8.419599124183007),\n",
       " (tensor(1.5931), 'Gaia Project', 8.450149134221311),\n",
       " (tensor(1.5837), 'Star Wars: Rebellion', 8.457270405092594),\n",
       " (tensor(1.5655),\n",
       "  'Through the Ages: A New Story of Civilization',\n",
       "  8.415795857030016),\n",
       " (tensor(1.5510), 'Tainted Grail: The Fall of Avalon', 8.369131144343303)]"
      ]
     },
     "execution_count": 77,
     "metadata": {},
     "output_type": "execute_result"
    }
   ],
   "source": [
    "sorted(movie_ratings, key=lambda o: o[0], reverse=True)[:15]"
   ]
  },
  {
   "cell_type": "code",
   "execution_count": 78,
   "metadata": {},
   "outputs": [
    {
     "data": {
      "text/plain": [
       "torch.Size([1000, 50])"
      ]
     },
     "execution_count": 78,
     "metadata": {},
     "output_type": "execute_result"
    }
   ],
   "source": [
    "movie_w = learn.model.weight(top_movies, is_item=True)\n",
    "movie_w.shape"
   ]
  },
  {
   "cell_type": "code",
   "execution_count": 79,
   "metadata": {},
   "outputs": [
    {
     "data": {
      "text/plain": [
       "torch.Size([1000, 3])"
      ]
     },
     "execution_count": 79,
     "metadata": {},
     "output_type": "execute_result"
    }
   ],
   "source": [
    "movie_pca = movie_w.pca(3)\n",
    "movie_pca.shape"
   ]
  },
  {
   "cell_type": "code",
   "execution_count": 80,
   "metadata": {},
   "outputs": [],
   "source": [
    "fac0,fac1,fac2 = movie_pca.t()\n",
    "# first dimension\n",
    "movie_comp = [(f, i) for f,i in zip(fac0, top_movies)]"
   ]
  },
  {
   "cell_type": "code",
   "execution_count": 81,
   "metadata": {},
   "outputs": [
    {
     "data": {
      "text/plain": [
       "[(tensor(0.8630), 'Carcassonne Junior'),\n",
       " (tensor(0.7367), 'Combat Commander: Europe'),\n",
       " (tensor(0.7085), 'The Castles of Burgundy: The Card Game'),\n",
       " (tensor(0.6986), 'Shadows of Brimstone: City of the Ancients'),\n",
       " (tensor(0.6601), 'Barrage'),\n",
       " (tensor(0.6395), 'Pass the Pigs'),\n",
       " (tensor(0.6185), 'Timeline: General Interest'),\n",
       " (tensor(0.6127), 'Axis & Allies'),\n",
       " (tensor(0.6008), 'Terraforming Mars: Ares Expedition'),\n",
       " (tensor(0.5773), 'Tide of Iron')]"
      ]
     },
     "execution_count": 81,
     "metadata": {},
     "output_type": "execute_result"
    }
   ],
   "source": [
    "\n",
    "sorted(movie_comp, key=itemgetter(0), reverse=True)[:10]"
   ]
  },
  {
   "cell_type": "code",
   "execution_count": 82,
   "metadata": {},
   "outputs": [
    {
     "data": {
      "text/plain": [
       "[(tensor(-1.0086), 'When I Dream'),\n",
       " (tensor(-0.8968), 'Clank!: Legacy – Acquisitions Incorporated'),\n",
       " (tensor(-0.7987), 'Nemesis'),\n",
       " (tensor(-0.7166), 'Battle Sheep'),\n",
       " (tensor(-0.6260), 'Middle-Earth Quest'),\n",
       " (tensor(-0.6259), 'Samurai Sword'),\n",
       " (tensor(-0.6002), 'Twilight Imperium: Third Edition'),\n",
       " (tensor(-0.5968), 'Medieval Academy'),\n",
       " (tensor(-0.5790), 'Under Falling Skies'),\n",
       " (tensor(-0.5739), 'World of Warcraft: The Boardgame')]"
      ]
     },
     "execution_count": 82,
     "metadata": {},
     "output_type": "execute_result"
    }
   ],
   "source": [
    "sorted(movie_comp, key=itemgetter(0))[:10]"
   ]
  },
  {
   "cell_type": "code",
   "execution_count": 83,
   "metadata": {},
   "outputs": [
    {
     "data": {
      "text/plain": [
       "[(tensor(1.5784), 'A Game of Thrones: The Card Game (Second Edition)'),\n",
       " (tensor(0.7502), 'Star Wars: Outer Rim'),\n",
       " (tensor(0.7247), 'Onirim'),\n",
       " (tensor(0.6440), 'Lords of Hellas'),\n",
       " (tensor(0.6298), 'Clank!: Legacy – Acquisitions Incorporated'),\n",
       " (tensor(0.6275), 'Argent: The Consortium'),\n",
       " (tensor(0.6073), 'Evolution: Climate'),\n",
       " (tensor(0.5854), 'Too Many Bones'),\n",
       " (tensor(0.5697), 'The Downfall of Pompeii'),\n",
       " (tensor(0.5550), 'Mahjong')]"
      ]
     },
     "execution_count": 83,
     "metadata": {},
     "output_type": "execute_result"
    }
   ],
   "source": [
    "movie_comp = [(f, i) for f,i in zip(fac1, top_movies)]\n",
    "sorted(movie_comp, key=itemgetter(0), reverse=True)[:10]"
   ]
  },
  {
   "cell_type": "code",
   "execution_count": 84,
   "metadata": {},
   "outputs": [
    {
     "data": {
      "text/plain": [
       "[(tensor(-0.7801), 'Altiplano'),\n",
       " (tensor(-0.7628), 'Tainted Grail: The Fall of Avalon'),\n",
       " (tensor(-0.7188), 'Guess Who?'),\n",
       " (tensor(-0.6791), 'Bausack'),\n",
       " (tensor(-0.6579), 'Dungeons & Dragons: The Legend of Drizzt Board Game'),\n",
       " (tensor(-0.6472), 'Tiny Epic Western'),\n",
       " (tensor(-0.6448), 'Unstable Unicorns'),\n",
       " (tensor(-0.6414), 'Arkham Horror (Third Edition)'),\n",
       " (tensor(-0.6399), 'Marvel Dice Masters: Avengers vs. X-Men'),\n",
       " (tensor(-0.6232), 'Munchkin Quest')]"
      ]
     },
     "execution_count": 84,
     "metadata": {},
     "output_type": "execute_result"
    }
   ],
   "source": [
    "sorted(movie_comp, key=itemgetter(0))[:10]"
   ]
  },
  {
   "cell_type": "code",
   "execution_count": 58,
   "metadata": {},
   "outputs": [
    {
     "data": {
      "image/png": "[encoded data removed]",
      "text/plain": [
       "<Figure size 1080x1080 with 1 Axes>"
      ]
     },
     "metadata": {
      "needs_background": "light"
     },
     "output_type": "display_data"
    }
   ],
   "source": [
    "idxs = np.random.choice(len(top_movies), 50, replace=False)\n",
    "idxs = list(range(50))\n",
    "X = fac0[idxs]\n",
    "Y = fac2[idxs]\n",
    "plt.figure(figsize=(15,15))\n",
    "plt.scatter(X, Y)\n",
    "for i, x, y in zip(top_movies[idxs], X, Y):\n",
    "    plt.text(x,y,i, color=np.random.rand(3)*0.7, fontsize=11)\n",
    "plt.show()"
   ]
  },
  {
   "cell_type": "code",
   "execution_count": null,
   "metadata": {},
   "outputs": [],
   "source": []
  },
  {
   "cell_type": "code",
   "execution_count": null,
   "metadata": {},
   "outputs": [],
   "source": []
  },
  {
   "cell_type": "code",
   "execution_count": 9,
   "metadata": {},
   "outputs": [
    {
     "ename": "NameError",
     "evalue": "name 'CollabDataBunch' is not defined",
     "output_type": "error",
     "traceback": [
      "\u001b[1;31m---------------------------------------------------------------------------\u001b[0m",
      "\u001b[1;31mNameError\u001b[0m                                 Traceback (most recent call last)",
      "\u001b[1;32mC:\\Users\\GEBRUI~1\\AppData\\Local\\Temp/ipykernel_7980/370405329.py\u001b[0m in \u001b[0;36m<module>\u001b[1;34m\u001b[0m\n\u001b[1;32m----> 1\u001b[1;33m \u001b[0mdata\u001b[0m \u001b[1;33m=\u001b[0m \u001b[0mCollabDataBunch\u001b[0m\u001b[1;33m.\u001b[0m\u001b[0mfrom_df\u001b[0m\u001b[1;33m(\u001b[0m\u001b[0mreviews\u001b[0m\u001b[1;33m,\u001b[0m \u001b[0muser_name\u001b[0m\u001b[1;33m=\u001b[0m\u001b[1;34m'user'\u001b[0m\u001b[1;33m,\u001b[0m\u001b[0mitem_name\u001b[0m\u001b[1;33m=\u001b[0m\u001b[1;34m'name'\u001b[0m\u001b[1;33m,\u001b[0m\u001b[0mrating_name\u001b[0m\u001b[1;33m=\u001b[0m\u001b[1;34m'rating'\u001b[0m\u001b[1;33m,\u001b[0m\u001b[0mbs\u001b[0m\u001b[1;33m=\u001b[0m\u001b[1;36m100000\u001b[0m\u001b[1;33m,\u001b[0m \u001b[0mseed\u001b[0m \u001b[1;33m=\u001b[0m \u001b[1;36m42\u001b[0m\u001b[1;33m)\u001b[0m\u001b[1;33m\u001b[0m\u001b[1;33m\u001b[0m\u001b[0m\n\u001b[0m\u001b[0;32m      2\u001b[0m \u001b[0mdata\u001b[0m\u001b[1;33m.\u001b[0m\u001b[0mshow_batch\u001b[0m\u001b[1;33m(\u001b[0m\u001b[1;33m)\u001b[0m\u001b[1;33m\u001b[0m\u001b[1;33m\u001b[0m\u001b[0m\n",
      "\u001b[1;31mNameError\u001b[0m: name 'CollabDataBunch' is not defined"
     ]
    }
   ],
   "source": [
    "data = CollabDataBunch.from_df(reviews, user_name='user',item_name='name',rating_name='rating',bs=100000, seed = 42)\n",
    "data.show_batch()"
   ]
  },
  {
   "cell_type": "code",
   "execution_count": null,
   "metadata": {},
   "outputs": [],
   "source": []
  },
  {
   "cell_type": "code",
   "execution_count": 7,
   "metadata": {},
   "outputs": [],
   "source": [
    "learner = collab_learner(data, n_factors=50, y_range=(2.,10))"
   ]
  },
  {
   "cell_type": "code",
   "execution_count": 32,
   "metadata": {},
   "outputs": [
    {
     "data": {
      "text/html": [],
      "text/plain": [
       "<IPython.core.display.HTML object>"
      ]
     },
     "metadata": {},
     "output_type": "display_data"
    },
    {
     "name": "stdout",
     "output_type": "stream",
     "text": [
      "LR Finder is complete, type {learner_name}.recorder.plot() to see the graph.\n"
     ]
    },
    {
     "data": {
      "image/png": "[encoded data removed]",
      "text/plain": [
       "<Figure size 432x288 with 1 Axes>"
      ]
     },
     "metadata": {
      "needs_background": "light"
     },
     "output_type": "display_data"
    }
   ],
   "source": [
    "lr_find(learner)\n",
    "learner.recorder.plot()"
   ]
  },
  {
   "cell_type": "code",
   "execution_count": 33,
   "metadata": {},
   "outputs": [
    {
     "data": {
      "text/html": [
       "Total time: 06:41 <p><table border=\"1\" class=\"dataframe\">\n",
       "  <thead>\n",
       "    <tr style=\"text-align: left;\">\n",
       "      <th>epoch</th>\n",
       "      <th>train_loss</th>\n",
       "      <th>valid_loss</th>\n",
       "      <th>time</th>\n",
       "    </tr>\n",
       "  </thead>\n",
       "  <tbody>\n",
       "    <tr>\n",
       "      <td>0</td>\n",
       "      <td>2.198961</td>\n",
       "      <td>1.654890</td>\n",
       "      <td>02:14</td>\n",
       "    </tr>\n",
       "    <tr>\n",
       "      <td>1</td>\n",
       "      <td>1.526543</td>\n",
       "      <td>1.486123</td>\n",
       "      <td>02:14</td>\n",
       "    </tr>\n",
       "    <tr>\n",
       "      <td>2</td>\n",
       "      <td>1.214744</td>\n",
       "      <td>1.469154</td>\n",
       "      <td>02:12</td>\n",
       "    </tr>\n",
       "  </tbody>\n",
       "</table>"
      ],
      "text/plain": [
       "<IPython.core.display.HTML object>"
      ]
     },
     "metadata": {},
     "output_type": "display_data"
    }
   ],
   "source": [
    "learner.fit_one_cycle(3, 1e-2, wd=0.15)"
   ]
  },
  {
   "cell_type": "code",
   "execution_count": 36,
   "metadata": {},
   "outputs": [
    {
     "data": {
      "image/png": "[encoded data removed]",
      "text/plain": [
       "<Figure size 432x288 with 1 Axes>"
      ]
     },
     "metadata": {
      "needs_background": "light"
     },
     "output_type": "display_data"
    }
   ],
   "source": [
    "learner.recorder.plot_losses()"
   ]
  },
  {
   "cell_type": "code",
   "execution_count": 8,
   "metadata": {},
   "outputs": [
    {
     "data": {
      "text/plain": [
       "EmbeddingDotBias(\n",
       "  (u_weight): Embedding(277642, 50)\n",
       "  (i_weight): Embedding(16693, 50)\n",
       "  (u_bias): Embedding(277642, 1)\n",
       "  (i_bias): Embedding(16693, 1)\n",
       ")"
      ]
     },
     "execution_count": 8,
     "metadata": {},
     "output_type": "execute_result"
    }
   ],
   "source": [
    "#learner.save('3cycles1e-2-bs100000factors50yrange2-10wd005')\n",
    "#learner.load('3cycles1e-2-bs100000factors50yrange2-10wd005')\n",
    "learner.model"
   ]
  },
  {
   "cell_type": "code",
   "execution_count": 17,
   "metadata": {},
   "outputs": [
    {
     "name": "stdout",
     "output_type": "stream",
     "text": [
      "531\n"
     ]
    }
   ],
   "source": [
    "CUTOFF = 5000\n",
    "mean_ratings = reviews.groupby('name')['rating'].mean()\n",
    "top_games = games_by_all_users[games_by_all_users['count']>CUTOFF].sort_values('mean',ascending=False).index\n",
    "print(len(top_games))\n",
    "game_bias = learner.bias(top_games, is_item=True)\n",
    "game_bias.shapemean_ratings = reviews.groupby('name')['rating'].mean()\n",
    "game_ratings = [(b, i, mean_ratings.loc[i]) for i,b in zip(top_games,game_bias)]\n",
    "item0 = lambda o:o[0]"
   ]
  },
  {
   "cell_type": "code",
   "execution_count": 18,
   "metadata": {},
   "outputs": [
    {
     "data": {
      "text/plain": [
       "[(tensor(-0.3486), 'Monopoly', 4.380775175920025),\n",
       " (tensor(-0.3193), 'Battleship', 4.595128421199444),\n",
       " (tensor(-0.3119), 'The Game of Life', 4.23011018775603),\n",
       " (tensor(-0.2821), 'Checkers', 4.8557299132711504),\n",
       " (tensor(-0.2301),\n",
       "  'Killer Bunnies and the Quest for the Magic Carrot',\n",
       "  5.4962755463798745),\n",
       " (tensor(-0.2273), 'Connect Four', 4.849008524240809),\n",
       " (tensor(-0.2195), 'Phase 10', 5.088487233665916),\n",
       " (tensor(-0.1989), 'Yahtzee', 5.320197324357157),\n",
       " (tensor(-0.1633), 'UNO', 5.360617500297866),\n",
       " (tensor(-0.1605), 'Risk', 5.581480525773593)]"
      ]
     },
     "execution_count": 18,
     "metadata": {},
     "output_type": "execute_result"
    }
   ],
   "source": [
    "sorted(game_ratings, key=item0)[:10]"
   ]
  },
  {
   "cell_type": "code",
   "execution_count": 19,
   "metadata": {},
   "outputs": [
    {
     "data": {
      "text/plain": [
       "[(tensor(0.4665), 'Kingdom Death: Monster', 8.80980120344829),\n",
       " (tensor(0.3844), 'Twilight Imperium (Fourth Edition)', 8.729413089670137),\n",
       " (tensor(0.3833), 'Gloomhaven', 8.903553648356118),\n",
       " (tensor(0.3318), 'Terraforming Mars', 8.400691480172773),\n",
       " (tensor(0.3277), 'HeroQuest', 7.101169318299367),\n",
       " (tensor(0.3276), 'Arkham Horror: The Card Game', 8.22251270943396),\n",
       " (tensor(0.3271), 'Brass: Birmingham', 8.61948408928907),\n",
       " (tensor(0.3270), 'Pandemic Legacy: Season 1', 8.642492341401908),\n",
       " (tensor(0.3233), 'Dune', 7.525325597715967),\n",
       " (tensor(0.3223), 'Civilization', 7.517448234944239),\n",
       " (tensor(0.3210), 'The 7th Continent', 8.424031104308396),\n",
       " (tensor(0.3201), 'Star Wars: Rebellion', 8.445849852405225),\n",
       " (tensor(0.3187), 'Spirit Island', 8.372263601936222),\n",
       " (tensor(0.3162), 'Hero Realms', 7.694196930315378),\n",
       " (tensor(0.3157), 'Wingspan', 8.20744788191191),\n",
       " (tensor(0.3148), 'Go', 7.646139150049287),\n",
       " (tensor(0.3120), 'War of the Ring (Second Edition)', 8.426209182667625),\n",
       " (tensor(0.3092), 'Root', 8.096173981576264),\n",
       " (tensor(0.3091), 'Telestrations', 7.409575063752281),\n",
       " (tensor(0.3080),\n",
       "  'Through the Ages: A New Story of Civilization',\n",
       "  8.533844956583268),\n",
       " (tensor(0.3056), 'Harry Potter: Hogwarts Battle', 7.520878832127573),\n",
       " (tensor(0.3047), 'Cribbage', 7.036120307822646),\n",
       " (tensor(0.3038), 'Lords of Waterdeep', 7.766562243835069),\n",
       " (tensor(0.3013), 'Puerto Rico', 8.037584719093164),\n",
       " (tensor(0.3012), 'Magic: The Gathering', 7.473737755945101)]"
      ]
     },
     "execution_count": 19,
     "metadata": {},
     "output_type": "execute_result"
    }
   ],
   "source": [
    "sorted(game_ratings, key=lambda o: o[0], reverse=True)[:25]"
   ]
  },
  {
   "cell_type": "code",
   "execution_count": 20,
   "metadata": {},
   "outputs": [
    {
     "data": {
      "text/plain": [
       "torch.Size([531, 50])"
      ]
     },
     "execution_count": 20,
     "metadata": {},
     "output_type": "execute_result"
    }
   ],
   "source": [
    "game_weights = learner.weight(top_games, is_item=True)\n",
    "game_weights.shape"
   ]
  },
  {
   "cell_type": "code",
   "execution_count": 21,
   "metadata": {},
   "outputs": [
    {
     "data": {
      "text/plain": [
       "torch.Size([531, 3])"
      ]
     },
     "execution_count": 21,
     "metadata": {},
     "output_type": "execute_result"
    }
   ],
   "source": [
    "game_pca = game_weights.pca(3)\n",
    "game_pca.shape"
   ]
  },
  {
   "cell_type": "code",
   "execution_count": 22,
   "metadata": {},
   "outputs": [
    {
     "name": "stdout",
     "output_type": "stream",
     "text": [
      "[(tensor(2.0150), 'Monopoly'),\n",
      " (tensor(1.9891), 'The Game of Life'),\n",
      " (tensor(1.5296), 'Phase 10'),\n",
      " (tensor(1.3959), 'Zombies!!!'),\n",
      " (tensor(1.3664), 'Battleship'),\n",
      " (tensor(1.2959), 'Fluxx'),\n",
      " (tensor(1.2379), 'UNO'),\n",
      " (tensor(1.2315), 'Apples to Apples'),\n",
      " (tensor(1.2242), 'Cards Against Humanity'),\n",
      " (tensor(1.2237), 'Zombie Fluxx')]\n",
      "[(tensor(-2.2865), 'Gloomhaven'),\n",
      " (tensor(-2.1583), 'Gaia Project'),\n",
      " (tensor(-2.0837), 'Brass: Birmingham'),\n",
      " (tensor(-1.9872), 'Through the Ages: A New Story of Civilization'),\n",
      " (tensor(-1.8044), 'Twilight Imperium (Fourth Edition)'),\n",
      " (tensor(-1.7466), 'Great Western Trail'),\n",
      " (tensor(-1.6795), 'Terra Mystica'),\n",
      " (tensor(-1.6405), 'Spirit Island'),\n",
      " (tensor(-1.6355), 'Terraforming Mars'),\n",
      " (tensor(-1.5805), 'Food Chain Magnate')]\n"
     ]
    }
   ],
   "source": [
    "fac0,fac1,fac2 = game_pca.t()\n",
    "game_comp = [(f, i) for f,i in zip(fac0, top_games)]\n",
    "pprint(sorted(game_comp, key=itemgetter(0), reverse=True)[:10]) # pretty friendly worker placement games\n",
    "pprint(sorted(game_comp, key=itemgetter(0), reverse=False)[:10]) # horror/zombie games?"
   ]
  },
  {
   "cell_type": "code",
   "execution_count": 23,
   "metadata": {},
   "outputs": [
    {
     "name": "stdout",
     "output_type": "stream",
     "text": [
      "[(tensor(1.2400), 'Puerto Rico'),\n",
      " (tensor(1.0963), 'Caylus'),\n",
      " (tensor(1.0638), 'Agricola'),\n",
      " (tensor(1.0551), 'Tigris & Euphrates'),\n",
      " (tensor(1.0411), 'The Princes of Florence'),\n",
      " (tensor(1.0147), 'Hansa Teutonica'),\n",
      " (tensor(0.9834), 'Go'),\n",
      " (tensor(0.9344), 'El Grande'),\n",
      " (tensor(0.9306), 'The Castles of Burgundy'),\n",
      " (tensor(0.9154), 'Goa')]\n",
      "[(tensor(-1.6890), 'Eldritch Horror'),\n",
      " (tensor(-1.5237), 'Kingdom Death: Monster'),\n",
      " (tensor(-1.5056), 'Mansions of Madness: Second Edition'),\n",
      " (tensor(-1.4176), 'Star Wars: Imperial Assault'),\n",
      " (tensor(-1.4133), 'Dead of Winter: A Crossroads Game'),\n",
      " (tensor(-1.3214), 'Arkham Horror'),\n",
      " (tensor(-1.3146), 'T.I.M.E Stories'),\n",
      " (tensor(-1.3013), 'Zombicide: Black Plague'),\n",
      " (tensor(-1.2878), 'Arkham Horror: The Card Game'),\n",
      " (tensor(-1.2802), 'Dead of Winter: The Long Night')]\n"
     ]
    }
   ],
   "source": [
    "#fantasy versus real world/abstract\n",
    "game_comp = [(f, i) for f,i in zip(fac1, top_games)]\n",
    "pprint(sorted(game_comp, key=itemgetter(0), reverse=True)[:10])\n",
    "pprint(sorted(game_comp, key=itemgetter(0), reverse=False)[:10])"
   ]
  },
  {
   "cell_type": "code",
   "execution_count": 24,
   "metadata": {},
   "outputs": [
    {
     "name": "stdout",
     "output_type": "stream",
     "text": [
      "[(tensor(1.1475), 'Wingspan'),\n",
      " (tensor(1.0679), 'Sagrada'),\n",
      " (tensor(1.0493), 'Viticulture Essential Edition'),\n",
      " (tensor(1.0356), 'Century: Spice Road'),\n",
      " (tensor(1.0276), 'Azul'),\n",
      " (tensor(0.9598), 'Pandemic Legacy: Season 1'),\n",
      " (tensor(0.9532), 'Sushi Go Party!'),\n",
      " (tensor(0.9322), 'Kingdomino'),\n",
      " (tensor(0.9225), 'Raiders of the North Sea'),\n",
      " (tensor(0.8969), 'Bärenpark')]\n",
      "[(tensor(-1.6859), 'Go'),\n",
      " (tensor(-1.5073), 'Diplomacy'),\n",
      " (tensor(-1.4322), 'Android: Netrunner'),\n",
      " (tensor(-1.4176), 'Through the Ages: A Story of Civilization'),\n",
      " (tensor(-1.3819), 'Twilight Struggle'),\n",
      " (tensor(-1.3304), 'Age of Steam'),\n",
      " (tensor(-1.3120), 'Chess'),\n",
      " (tensor(-1.2489), 'A Game of Thrones: The Board Game (Second Edition)'),\n",
      " (tensor(-1.2432), 'A Game of Thrones (First Edition)'),\n",
      " (tensor(-1.1923), 'A Game of Thrones: The Card Game')]\n"
     ]
    }
   ],
   "source": [
    "#this one i don't get\n",
    "game_comp = [(f, i) for f,i in zip(fac2, top_games)]\n",
    "pprint(sorted(game_comp, key=itemgetter(0), reverse=True)[:10])\n",
    "pprint(sorted(game_comp, key=itemgetter(0), reverse=False)[:10])"
   ]
  },
  {
   "cell_type": "code",
   "execution_count": 25,
   "metadata": {},
   "outputs": [
    {
     "data": {
      "image/png": "[encoded data removed]",
      "text/plain": [
       "<Figure size 1080x1080 with 1 Axes>"
      ]
     },
     "metadata": {
      "needs_background": "light"
     },
     "output_type": "display_data"
    }
   ],
   "source": [
    "idxs = np.random.choice(len(top_games), 50, replace=False)\n",
    "idxs = list(range(50))\n",
    "X = fac0[idxs]\n",
    "Y = fac1[idxs]\n",
    "plt.figure(figsize=(15,15))\n",
    "plt.scatter(X, Y)\n",
    "for i, x, y in zip(top_games[idxs], X, Y):\n",
    "    plt.text(x,y,i, color=np.random.rand(3)*0.7, fontsize=11)\n",
    "plt.show()"
   ]
  },
  {
   "cell_type": "markdown",
   "metadata": {},
   "source": [
    "# Find similar games"
   ]
  },
  {
   "cell_type": "code",
   "execution_count": 26,
   "metadata": {},
   "outputs": [
    {
     "name": "stdout",
     "output_type": "stream",
     "text": [
      "3470\n"
     ]
    },
    {
     "data": {
      "text/plain": [
       "[(tensor(0.5076), 'Escape the Dark Castle', 8.114045689655175),\n",
       " (tensor(0.4665), 'Kingdom Death: Monster', 8.80980120344829),\n",
       " (tensor(0.3965), 'Deep Madness', 8.205578358531318),\n",
       " (tensor(0.3856),\n",
       "  'Unconditional Surrender! World War 2 in Europe',\n",
       "  8.402274881516588),\n",
       " (tensor(0.3844), 'Twilight Imperium (Fourth Edition)', 8.729413089670137),\n",
       " (tensor(0.3833), 'Gloomhaven', 8.903553648356118),\n",
       " (tensor(0.3770), 'Plague Inc.: The Board Game', 7.643024487935649),\n",
       " (tensor(0.3728), 'Endeavor: Age of Sail', 8.192791212313546),\n",
       " (tensor(0.3706), 'Mega Civilization', 8.277965144230768),\n",
       " (tensor(0.3673), 'Star Trek: Attack Wing', 7.53076305220883),\n",
       " (tensor(0.3656), 'Frostgrave', 8.084085657370519),\n",
       " (tensor(0.3613), 'Triumph & Tragedy', 8.238693089430893),\n",
       " (tensor(0.3601), 'Nemesis', 8.48634888519924),\n",
       " (tensor(0.3593), 'Mythic Battles: Pantheon', 8.620900529509097),\n",
       " (tensor(0.3520), 'Eat Poop You Cat', 7.49661930294906),\n",
       " (tensor(0.3518), 'Strat-O-Matic Baseball', 7.6902406),\n",
       " (tensor(0.3506), 'Hannibal & Hamilcar', 8.555714285714284),\n",
       " (tensor(0.3495), 'Too Many Bones: Undertow', 8.979125739644969),\n",
       " (tensor(0.3495), 'Sword & Sorcery', 8.157749147111915),\n",
       " (tensor(0.3468), 'Empires in Arms', 7.553542071057193),\n",
       " (tensor(0.3465), 'Unpublished Prototype', 7.351458330935251),\n",
       " (tensor(0.3442), 'Codex: Card-Time Strategy – Deluxe Set', 8.173083154121862),\n",
       " (tensor(0.3404), 'Betrayal Legacy', 8.217121292392303),\n",
       " (tensor(0.3398), 'Space Hulk (fourth edition)', 8.005658823529414),\n",
       " (tensor(0.3368), \"Star Wars: The Queen's Gambit\", 7.556916424636954)]"
      ]
     },
     "execution_count": 26,
     "metadata": {},
     "output_type": "execute_result"
    }
   ],
   "source": [
    "top_games = games_by_all_users[games_by_all_users['count']>500].sort_values('mean',ascending=False).index\n",
    "print(len(top_games))\n",
    "game_bias = learner.bias(top_games, is_item=True)\n",
    "game_bias.shapemean_ratings = reviews.groupby('name')['rating'].mean()\n",
    "game_ratings = [(b, i, mean_ratings.loc[i]) for i,b in zip(top_games,game_bias)]\n",
    "item0 = lambda o:o[0]\n",
    "sorted(game_ratings, key=lambda o: o[0], reverse=True)[:25]"
   ]
  },
  {
   "cell_type": "code",
   "execution_count": 27,
   "metadata": {},
   "outputs": [],
   "source": [
    "from sklearn.neighbors import NearestNeighbors"
   ]
  },
  {
   "cell_type": "code",
   "execution_count": 28,
   "metadata": {},
   "outputs": [],
   "source": [
    "import pickle\n",
    "with open('games_by_all_users.pickle', 'wb') as handle:\n",
    "    pickle.dump(games_by_all_users, handle, protocol=pickle.HIGHEST_PROTOCOL)"
   ]
  },
  {
   "cell_type": "code",
   "execution_count": 29,
   "metadata": {},
   "outputs": [],
   "source": [
    "top_games = games_by_all_users[games_by_all_users['count']>1000].sort_values('mean',ascending=False).reset_index()\n",
    "game_weights = learner.weight(top_games['name'], is_item=True)\n",
    "game_bias = learner.bias(top_games['name'], is_item=True)\n",
    "npweights = game_weights.numpy()\n",
    "top_games['model_score']=game_bias.numpy()\n",
    "top_games['weights_sum']=np.sum(np.abs(npweights),axis=1)\n",
    "\n",
    "nn = NearestNeighbors(n_neighbors=10)\n",
    "fitnn = nn.fit(npweights)"
   ]
  },
  {
   "cell_type": "code",
   "execution_count": 30,
   "metadata": {},
   "outputs": [],
   "source": [
    "distances,indices = fitnn.kneighbors([npweights[1223]])"
   ]
  },
  {
   "cell_type": "code",
   "execution_count": 31,
   "metadata": {},
   "outputs": [],
   "source": [
    "res = top_games[top_games['name'].str.contains('Coconuts')]\n",
    "if len(res)==1:\n",
    "    distances,indices = fitnn.kneighbors([npweights[res.index[0]]])\n",
    "else:\n",
    "    print(res.head())"
   ]
  },
  {
   "cell_type": "code",
   "execution_count": 32,
   "metadata": {},
   "outputs": [
    {
     "data": {
      "text/html": [
       "<div>\n",
       "<style scoped>\n",
       "    .dataframe tbody tr th:only-of-type {\n",
       "        vertical-align: middle;\n",
       "    }\n",
       "\n",
       "    .dataframe tbody tr th {\n",
       "        vertical-align: top;\n",
       "    }\n",
       "\n",
       "    .dataframe thead th {\n",
       "        text-align: right;\n",
       "    }\n",
       "</style>\n",
       "<table border=\"1\" class=\"dataframe\">\n",
       "  <thead>\n",
       "    <tr style=\"text-align: right;\">\n",
       "      <th></th>\n",
       "      <th>name</th>\n",
       "      <th>mean</th>\n",
       "      <th>count</th>\n",
       "      <th>rank</th>\n",
       "      <th>model_score</th>\n",
       "      <th>weights_sum</th>\n",
       "    </tr>\n",
       "  </thead>\n",
       "  <tbody>\n",
       "    <tr>\n",
       "      <th>762</th>\n",
       "      <td>Tumblin-Dice</td>\n",
       "      <td>7.177753</td>\n",
       "      <td>3460</td>\n",
       "      <td>2995</td>\n",
       "      <td>0.257285</td>\n",
       "      <td>8.450797</td>\n",
       "    </tr>\n",
       "    <tr>\n",
       "      <th>894</th>\n",
       "      <td>Coconuts</td>\n",
       "      <td>7.070444</td>\n",
       "      <td>3062</td>\n",
       "      <td>3562</td>\n",
       "      <td>0.255847</td>\n",
       "      <td>7.856468</td>\n",
       "    </tr>\n",
       "    <tr>\n",
       "      <th>989</th>\n",
       "      <td>Loony Quest</td>\n",
       "      <td>7.012931</td>\n",
       "      <td>4306</td>\n",
       "      <td>3907</td>\n",
       "      <td>0.199111</td>\n",
       "      <td>7.158642</td>\n",
       "    </tr>\n",
       "    <tr>\n",
       "      <th>1058</th>\n",
       "      <td>Rhino Hero</td>\n",
       "      <td>6.964009</td>\n",
       "      <td>6307</td>\n",
       "      <td>4176</td>\n",
       "      <td>0.183292</td>\n",
       "      <td>7.482912</td>\n",
       "    </tr>\n",
       "    <tr>\n",
       "      <th>1223</th>\n",
       "      <td>Animal Upon Animal</td>\n",
       "      <td>6.850299</td>\n",
       "      <td>5938</td>\n",
       "      <td>4911</td>\n",
       "      <td>0.183022</td>\n",
       "      <td>7.121556</td>\n",
       "    </tr>\n",
       "    <tr>\n",
       "      <th>1308</th>\n",
       "      <td>Ghost Blitz 2</td>\n",
       "      <td>6.784539</td>\n",
       "      <td>1322</td>\n",
       "      <td>5376</td>\n",
       "      <td>0.165168</td>\n",
       "      <td>7.648420</td>\n",
       "    </tr>\n",
       "    <tr>\n",
       "      <th>1380</th>\n",
       "      <td>Ghost Blitz</td>\n",
       "      <td>6.731855</td>\n",
       "      <td>5424</td>\n",
       "      <td>5766</td>\n",
       "      <td>0.147967</td>\n",
       "      <td>7.923955</td>\n",
       "    </tr>\n",
       "    <tr>\n",
       "      <th>1427</th>\n",
       "      <td>Dr. Eureka</td>\n",
       "      <td>6.697367</td>\n",
       "      <td>2363</td>\n",
       "      <td>6006</td>\n",
       "      <td>0.138598</td>\n",
       "      <td>6.470623</td>\n",
       "    </tr>\n",
       "    <tr>\n",
       "      <th>1318</th>\n",
       "      <td>Say Anything</td>\n",
       "      <td>6.781342</td>\n",
       "      <td>5122</td>\n",
       "      <td>5403</td>\n",
       "      <td>0.107839</td>\n",
       "      <td>8.259356</td>\n",
       "    </tr>\n",
       "    <tr>\n",
       "      <th>1717</th>\n",
       "      <td>Click Clack Lumberjack</td>\n",
       "      <td>6.452125</td>\n",
       "      <td>3191</td>\n",
       "      <td>7862</td>\n",
       "      <td>0.087289</td>\n",
       "      <td>8.210957</td>\n",
       "    </tr>\n",
       "  </tbody>\n",
       "</table>\n",
       "</div>"
      ],
      "text/plain": [
       "                        name      mean  count  rank  model_score  weights_sum\n",
       "762             Tumblin-Dice  7.177753   3460  2995     0.257285     8.450797\n",
       "894                 Coconuts  7.070444   3062  3562     0.255847     7.856468\n",
       "989              Loony Quest  7.012931   4306  3907     0.199111     7.158642\n",
       "1058              Rhino Hero  6.964009   6307  4176     0.183292     7.482912\n",
       "1223      Animal Upon Animal  6.850299   5938  4911     0.183022     7.121556\n",
       "1308           Ghost Blitz 2  6.784539   1322  5376     0.165168     7.648420\n",
       "1380             Ghost Blitz  6.731855   5424  5766     0.147967     7.923955\n",
       "1427              Dr. Eureka  6.697367   2363  6006     0.138598     6.470623\n",
       "1318            Say Anything  6.781342   5122  5403     0.107839     8.259356\n",
       "1717  Click Clack Lumberjack  6.452125   3191  7862     0.087289     8.210957"
      ]
     },
     "execution_count": 32,
     "metadata": {},
     "output_type": "execute_result"
    }
   ],
   "source": [
    "top_games.iloc[indices[0][:500]].sort_values('model_score',ascending=False)"
   ]
  },
  {
   "cell_type": "code",
   "execution_count": 33,
   "metadata": {},
   "outputs": [
    {
     "name": "stdout",
     "output_type": "stream",
     "text": [
      "0.0\n",
      "0.9034415689269378\n",
      "0.9059429138692521\n",
      "0.9471267382319517\n",
      "0.9647173242209175\n",
      "0.9684741733495199\n",
      "0.9753135981358055\n",
      "0.9809447296767007\n",
      "0.982072494185953\n",
      "0.9842351197950258\n"
     ]
    }
   ],
   "source": [
    "for d in distances[0]: print(d)"
   ]
  },
  {
   "cell_type": "code",
   "execution_count": 34,
   "metadata": {},
   "outputs": [
    {
     "data": {
      "text/html": [
       "<div>\n",
       "<style scoped>\n",
       "    .dataframe tbody tr th:only-of-type {\n",
       "        vertical-align: middle;\n",
       "    }\n",
       "\n",
       "    .dataframe tbody tr th {\n",
       "        vertical-align: top;\n",
       "    }\n",
       "\n",
       "    .dataframe thead th {\n",
       "        text-align: right;\n",
       "    }\n",
       "</style>\n",
       "<table border=\"1\" class=\"dataframe\">\n",
       "  <thead>\n",
       "    <tr style=\"text-align: right;\">\n",
       "      <th></th>\n",
       "      <th>name</th>\n",
       "      <th>mean</th>\n",
       "      <th>count</th>\n",
       "      <th>rank</th>\n",
       "      <th>model_score</th>\n",
       "      <th>weights_sum</th>\n",
       "    </tr>\n",
       "  </thead>\n",
       "  <tbody>\n",
       "    <tr>\n",
       "      <th>2137</th>\n",
       "      <td>Tic-Tac-Toe</td>\n",
       "      <td>2.608882</td>\n",
       "      <td>2769</td>\n",
       "      <td>16678</td>\n",
       "      <td>-0.381589</td>\n",
       "      <td>24.849243</td>\n",
       "    </tr>\n",
       "    <tr>\n",
       "      <th>2136</th>\n",
       "      <td>War</td>\n",
       "      <td>2.616306</td>\n",
       "      <td>1305</td>\n",
       "      <td>16677</td>\n",
       "      <td>-0.385485</td>\n",
       "      <td>23.859728</td>\n",
       "    </tr>\n",
       "    <tr>\n",
       "      <th>2134</th>\n",
       "      <td>Chutes and Ladders</td>\n",
       "      <td>2.820847</td>\n",
       "      <td>3125</td>\n",
       "      <td>16668</td>\n",
       "      <td>-0.399438</td>\n",
       "      <td>22.818176</td>\n",
       "    </tr>\n",
       "    <tr>\n",
       "      <th>2135</th>\n",
       "      <td>Bingo</td>\n",
       "      <td>2.762277</td>\n",
       "      <td>1799</td>\n",
       "      <td>16673</td>\n",
       "      <td>-0.380525</td>\n",
       "      <td>22.345882</td>\n",
       "    </tr>\n",
       "    <tr>\n",
       "      <th>2132</th>\n",
       "      <td>LCR</td>\n",
       "      <td>3.261187</td>\n",
       "      <td>1523</td>\n",
       "      <td>16657</td>\n",
       "      <td>-0.362845</td>\n",
       "      <td>21.802368</td>\n",
       "    </tr>\n",
       "    <tr>\n",
       "      <th>0</th>\n",
       "      <td>Gloomhaven</td>\n",
       "      <td>8.903554</td>\n",
       "      <td>24485</td>\n",
       "      <td>35</td>\n",
       "      <td>0.383276</td>\n",
       "      <td>20.741590</td>\n",
       "    </tr>\n",
       "    <tr>\n",
       "      <th>2133</th>\n",
       "      <td>Candy Land</td>\n",
       "      <td>3.172635</td>\n",
       "      <td>3408</td>\n",
       "      <td>16661</td>\n",
       "      <td>-0.373037</td>\n",
       "      <td>19.993757</td>\n",
       "    </tr>\n",
       "    <tr>\n",
       "      <th>1</th>\n",
       "      <td>Kingdom Death: Monster</td>\n",
       "      <td>8.809801</td>\n",
       "      <td>5800</td>\n",
       "      <td>44</td>\n",
       "      <td>0.466535</td>\n",
       "      <td>19.462381</td>\n",
       "    </tr>\n",
       "    <tr>\n",
       "      <th>2</th>\n",
       "      <td>Twilight Imperium (Fourth Edition)</td>\n",
       "      <td>8.729413</td>\n",
       "      <td>6457</td>\n",
       "      <td>53</td>\n",
       "      <td>0.384380</td>\n",
       "      <td>19.369850</td>\n",
       "    </tr>\n",
       "    <tr>\n",
       "      <th>3</th>\n",
       "      <td>Pandemic Legacy: Season 1</td>\n",
       "      <td>8.642492</td>\n",
       "      <td>30943</td>\n",
       "      <td>68</td>\n",
       "      <td>0.326969</td>\n",
       "      <td>19.288017</td>\n",
       "    </tr>\n",
       "    <tr>\n",
       "      <th>1977</th>\n",
       "      <td>Cards Against Humanity</td>\n",
       "      <td>6.025889</td>\n",
       "      <td>19339</td>\n",
       "      <td>11024</td>\n",
       "      <td>0.010679</td>\n",
       "      <td>18.379524</td>\n",
       "    </tr>\n",
       "    <tr>\n",
       "      <th>6</th>\n",
       "      <td>Gaia Project</td>\n",
       "      <td>8.550378</td>\n",
       "      <td>9035</td>\n",
       "      <td>96</td>\n",
       "      <td>0.294152</td>\n",
       "      <td>18.189018</td>\n",
       "    </tr>\n",
       "    <tr>\n",
       "      <th>2008</th>\n",
       "      <td>Munchkin</td>\n",
       "      <td>5.921035</td>\n",
       "      <td>35832</td>\n",
       "      <td>11712</td>\n",
       "      <td>-0.122733</td>\n",
       "      <td>17.818962</td>\n",
       "    </tr>\n",
       "    <tr>\n",
       "      <th>92</th>\n",
       "      <td>Advanced Squad Leader</td>\n",
       "      <td>7.964294</td>\n",
       "      <td>3283</td>\n",
       "      <td>533</td>\n",
       "      <td>0.286085</td>\n",
       "      <td>17.414150</td>\n",
       "    </tr>\n",
       "    <tr>\n",
       "      <th>5</th>\n",
       "      <td>Brass: Birmingham</td>\n",
       "      <td>8.619484</td>\n",
       "      <td>5331</td>\n",
       "      <td>77</td>\n",
       "      <td>0.327083</td>\n",
       "      <td>17.301138</td>\n",
       "    </tr>\n",
       "    <tr>\n",
       "      <th>2004</th>\n",
       "      <td>Exploding Kittens</td>\n",
       "      <td>5.940704</td>\n",
       "      <td>13587</td>\n",
       "      <td>11574</td>\n",
       "      <td>-0.130565</td>\n",
       "      <td>17.119047</td>\n",
       "    </tr>\n",
       "    <tr>\n",
       "      <th>7</th>\n",
       "      <td>Too Many Bones</td>\n",
       "      <td>8.534952</td>\n",
       "      <td>2444</td>\n",
       "      <td>102</td>\n",
       "      <td>0.318820</td>\n",
       "      <td>17.048168</td>\n",
       "    </tr>\n",
       "    <tr>\n",
       "      <th>4</th>\n",
       "      <td>Mythic Battles: Pantheon</td>\n",
       "      <td>8.620901</td>\n",
       "      <td>1813</td>\n",
       "      <td>76</td>\n",
       "      <td>0.359267</td>\n",
       "      <td>16.776976</td>\n",
       "    </tr>\n",
       "    <tr>\n",
       "      <th>8</th>\n",
       "      <td>Through the Ages: A New Story of Civilization</td>\n",
       "      <td>8.533845</td>\n",
       "      <td>15547</td>\n",
       "      <td>103</td>\n",
       "      <td>0.308015</td>\n",
       "      <td>16.770348</td>\n",
       "    </tr>\n",
       "    <tr>\n",
       "      <th>13</th>\n",
       "      <td>The 7th Continent</td>\n",
       "      <td>8.424031</td>\n",
       "      <td>8820</td>\n",
       "      <td>145</td>\n",
       "      <td>0.320997</td>\n",
       "      <td>16.228148</td>\n",
       "    </tr>\n",
       "    <tr>\n",
       "      <th>11</th>\n",
       "      <td>Star Wars: Rebellion</td>\n",
       "      <td>8.445850</td>\n",
       "      <td>16464</td>\n",
       "      <td>133</td>\n",
       "      <td>0.320111</td>\n",
       "      <td>16.148884</td>\n",
       "    </tr>\n",
       "    <tr>\n",
       "      <th>16</th>\n",
       "      <td>Twilight Struggle</td>\n",
       "      <td>8.325691</td>\n",
       "      <td>34387</td>\n",
       "      <td>191</td>\n",
       "      <td>0.300608</td>\n",
       "      <td>15.927194</td>\n",
       "    </tr>\n",
       "    <tr>\n",
       "      <th>12</th>\n",
       "      <td>War of the Ring (Second Edition)</td>\n",
       "      <td>8.426209</td>\n",
       "      <td>9739</td>\n",
       "      <td>143</td>\n",
       "      <td>0.311980</td>\n",
       "      <td>15.906400</td>\n",
       "    </tr>\n",
       "    <tr>\n",
       "      <th>2049</th>\n",
       "      <td>Fluxx</td>\n",
       "      <td>5.686442</td>\n",
       "      <td>14339</td>\n",
       "      <td>13095</td>\n",
       "      <td>-0.142902</td>\n",
       "      <td>15.858180</td>\n",
       "    </tr>\n",
       "    <tr>\n",
       "      <th>1926</th>\n",
       "      <td>Exploding Kittens: NSFW Deck</td>\n",
       "      <td>6.175225</td>\n",
       "      <td>5742</td>\n",
       "      <td>9964</td>\n",
       "      <td>-0.039066</td>\n",
       "      <td>15.766325</td>\n",
       "    </tr>\n",
       "    <tr>\n",
       "      <th>17</th>\n",
       "      <td>Scythe</td>\n",
       "      <td>8.286130</td>\n",
       "      <td>39104</td>\n",
       "      <td>211</td>\n",
       "      <td>0.294214</td>\n",
       "      <td>15.646695</td>\n",
       "    </tr>\n",
       "    <tr>\n",
       "      <th>2027</th>\n",
       "      <td>Zombies!!!</td>\n",
       "      <td>5.831997</td>\n",
       "      <td>13735</td>\n",
       "      <td>12258</td>\n",
       "      <td>-0.112472</td>\n",
       "      <td>15.531037</td>\n",
       "    </tr>\n",
       "    <tr>\n",
       "      <th>2129</th>\n",
       "      <td>Trouble</td>\n",
       "      <td>3.759144</td>\n",
       "      <td>2714</td>\n",
       "      <td>16583</td>\n",
       "      <td>-0.329057</td>\n",
       "      <td>15.466353</td>\n",
       "    </tr>\n",
       "    <tr>\n",
       "      <th>18</th>\n",
       "      <td>Great Western Trail</td>\n",
       "      <td>8.284660</td>\n",
       "      <td>18941</td>\n",
       "      <td>212</td>\n",
       "      <td>0.273814</td>\n",
       "      <td>15.308851</td>\n",
       "    </tr>\n",
       "    <tr>\n",
       "      <th>9</th>\n",
       "      <td>Nemesis</td>\n",
       "      <td>8.486349</td>\n",
       "      <td>2108</td>\n",
       "      <td>122</td>\n",
       "      <td>0.360122</td>\n",
       "      <td>15.220189</td>\n",
       "    </tr>\n",
       "    <tr>\n",
       "      <th>...</th>\n",
       "      <td>...</td>\n",
       "      <td>...</td>\n",
       "      <td>...</td>\n",
       "      <td>...</td>\n",
       "      <td>...</td>\n",
       "      <td>...</td>\n",
       "    </tr>\n",
       "    <tr>\n",
       "      <th>51</th>\n",
       "      <td>Shadows of Brimstone: Swamps of Death</td>\n",
       "      <td>8.088333</td>\n",
       "      <td>1940</td>\n",
       "      <td>361</td>\n",
       "      <td>0.262815</td>\n",
       "      <td>13.809097</td>\n",
       "    </tr>\n",
       "    <tr>\n",
       "      <th>1281</th>\n",
       "      <td>Smash Up</td>\n",
       "      <td>6.806387</td>\n",
       "      <td>20468</td>\n",
       "      <td>5210</td>\n",
       "      <td>0.118941</td>\n",
       "      <td>13.793905</td>\n",
       "    </tr>\n",
       "    <tr>\n",
       "      <th>41</th>\n",
       "      <td>The Castles of Burgundy</td>\n",
       "      <td>8.129152</td>\n",
       "      <td>36469</td>\n",
       "      <td>319</td>\n",
       "      <td>0.268200</td>\n",
       "      <td>13.735626</td>\n",
       "    </tr>\n",
       "    <tr>\n",
       "      <th>703</th>\n",
       "      <td>One Night Ultimate Werewolf</td>\n",
       "      <td>7.215590</td>\n",
       "      <td>16862</td>\n",
       "      <td>2785</td>\n",
       "      <td>0.186035</td>\n",
       "      <td>13.717877</td>\n",
       "    </tr>\n",
       "    <tr>\n",
       "      <th>72</th>\n",
       "      <td>Paths of Glory</td>\n",
       "      <td>8.019087</td>\n",
       "      <td>4059</td>\n",
       "      <td>461</td>\n",
       "      <td>0.296252</td>\n",
       "      <td>13.695848</td>\n",
       "    </tr>\n",
       "    <tr>\n",
       "      <th>129</th>\n",
       "      <td>Eldritch Horror</td>\n",
       "      <td>7.861219</td>\n",
       "      <td>23482</td>\n",
       "      <td>701</td>\n",
       "      <td>0.294154</td>\n",
       "      <td>13.680633</td>\n",
       "    </tr>\n",
       "    <tr>\n",
       "      <th>84</th>\n",
       "      <td>Through the Ages: A Story of Civilization</td>\n",
       "      <td>7.992275</td>\n",
       "      <td>16918</td>\n",
       "      <td>501</td>\n",
       "      <td>0.263184</td>\n",
       "      <td>13.636951</td>\n",
       "    </tr>\n",
       "    <tr>\n",
       "      <th>546</th>\n",
       "      <td>The Resistance</td>\n",
       "      <td>7.338761</td>\n",
       "      <td>31729</td>\n",
       "      <td>2241</td>\n",
       "      <td>0.221842</td>\n",
       "      <td>13.636929</td>\n",
       "    </tr>\n",
       "    <tr>\n",
       "      <th>598</th>\n",
       "      <td>Smash Up: Awesome Level 9000</td>\n",
       "      <td>7.300113</td>\n",
       "      <td>5951</td>\n",
       "      <td>2412</td>\n",
       "      <td>0.199854</td>\n",
       "      <td>13.609862</td>\n",
       "    </tr>\n",
       "    <tr>\n",
       "      <th>54</th>\n",
       "      <td>Combat Commander: Pacific</td>\n",
       "      <td>8.074243</td>\n",
       "      <td>1327</td>\n",
       "      <td>376</td>\n",
       "      <td>0.275012</td>\n",
       "      <td>13.596219</td>\n",
       "    </tr>\n",
       "    <tr>\n",
       "      <th>37</th>\n",
       "      <td>Viticulture Essential Edition</td>\n",
       "      <td>8.143059</td>\n",
       "      <td>17217</td>\n",
       "      <td>303</td>\n",
       "      <td>0.277671</td>\n",
       "      <td>13.584325</td>\n",
       "    </tr>\n",
       "    <tr>\n",
       "      <th>401</th>\n",
       "      <td>Magic: The Gathering</td>\n",
       "      <td>7.473738</td>\n",
       "      <td>27838</td>\n",
       "      <td>1694</td>\n",
       "      <td>0.301195</td>\n",
       "      <td>13.557755</td>\n",
       "    </tr>\n",
       "    <tr>\n",
       "      <th>63</th>\n",
       "      <td>Lords of Hellas</td>\n",
       "      <td>8.054546</td>\n",
       "      <td>2819</td>\n",
       "      <td>403</td>\n",
       "      <td>0.274835</td>\n",
       "      <td>13.556188</td>\n",
       "    </tr>\n",
       "    <tr>\n",
       "      <th>39</th>\n",
       "      <td>Agricola (Revised Edition)</td>\n",
       "      <td>8.136313</td>\n",
       "      <td>4572</td>\n",
       "      <td>313</td>\n",
       "      <td>0.259227</td>\n",
       "      <td>13.479656</td>\n",
       "    </tr>\n",
       "    <tr>\n",
       "      <th>121</th>\n",
       "      <td>Android: Netrunner</td>\n",
       "      <td>7.899637</td>\n",
       "      <td>24306</td>\n",
       "      <td>649</td>\n",
       "      <td>0.271782</td>\n",
       "      <td>13.445665</td>\n",
       "    </tr>\n",
       "    <tr>\n",
       "      <th>40</th>\n",
       "      <td>Mechs vs. Minions</td>\n",
       "      <td>8.131832</td>\n",
       "      <td>11075</td>\n",
       "      <td>316</td>\n",
       "      <td>0.294511</td>\n",
       "      <td>13.427068</td>\n",
       "    </tr>\n",
       "    <tr>\n",
       "      <th>79</th>\n",
       "      <td>Shadows of Brimstone: City of the Ancients</td>\n",
       "      <td>8.005471</td>\n",
       "      <td>2901</td>\n",
       "      <td>482</td>\n",
       "      <td>0.330488</td>\n",
       "      <td>13.345347</td>\n",
       "    </tr>\n",
       "    <tr>\n",
       "      <th>1812</th>\n",
       "      <td>Talisman</td>\n",
       "      <td>6.362789</td>\n",
       "      <td>4785</td>\n",
       "      <td>8561</td>\n",
       "      <td>0.154912</td>\n",
       "      <td>13.322894</td>\n",
       "    </tr>\n",
       "    <tr>\n",
       "      <th>50</th>\n",
       "      <td>Root</td>\n",
       "      <td>8.096174</td>\n",
       "      <td>6839</td>\n",
       "      <td>356</td>\n",
       "      <td>0.309184</td>\n",
       "      <td>13.320201</td>\n",
       "    </tr>\n",
       "    <tr>\n",
       "      <th>52</th>\n",
       "      <td>Orléans</td>\n",
       "      <td>8.083176</td>\n",
       "      <td>15739</td>\n",
       "      <td>366</td>\n",
       "      <td>0.276832</td>\n",
       "      <td>13.271165</td>\n",
       "    </tr>\n",
       "    <tr>\n",
       "      <th>60</th>\n",
       "      <td>Clans of Caledonia</td>\n",
       "      <td>8.062913</td>\n",
       "      <td>8789</td>\n",
       "      <td>393</td>\n",
       "      <td>0.247040</td>\n",
       "      <td>13.262743</td>\n",
       "    </tr>\n",
       "    <tr>\n",
       "      <th>336</th>\n",
       "      <td>Axis &amp; Allies Europe 1940</td>\n",
       "      <td>7.550631</td>\n",
       "      <td>1611</td>\n",
       "      <td>1469</td>\n",
       "      <td>0.224986</td>\n",
       "      <td>13.258201</td>\n",
       "    </tr>\n",
       "    <tr>\n",
       "      <th>53</th>\n",
       "      <td>Star Wars: Imperial Assault</td>\n",
       "      <td>8.082005</td>\n",
       "      <td>16491</td>\n",
       "      <td>367</td>\n",
       "      <td>0.299631</td>\n",
       "      <td>13.223418</td>\n",
       "    </tr>\n",
       "    <tr>\n",
       "      <th>74</th>\n",
       "      <td>The Gallerist</td>\n",
       "      <td>8.016956</td>\n",
       "      <td>6680</td>\n",
       "      <td>464</td>\n",
       "      <td>0.226737</td>\n",
       "      <td>13.218933</td>\n",
       "    </tr>\n",
       "    <tr>\n",
       "      <th>35</th>\n",
       "      <td>Arcadia Quest: Inferno</td>\n",
       "      <td>8.152270</td>\n",
       "      <td>1466</td>\n",
       "      <td>299</td>\n",
       "      <td>0.269418</td>\n",
       "      <td>13.174849</td>\n",
       "    </tr>\n",
       "    <tr>\n",
       "      <th>1482</th>\n",
       "      <td>Warhammer: The Mass Combat Fantasy Roleplaying...</td>\n",
       "      <td>6.652386</td>\n",
       "      <td>2539</td>\n",
       "      <td>6340</td>\n",
       "      <td>0.097164</td>\n",
       "      <td>13.171099</td>\n",
       "    </tr>\n",
       "    <tr>\n",
       "      <th>73</th>\n",
       "      <td>Teotihuacan: City of Gods</td>\n",
       "      <td>8.017548</td>\n",
       "      <td>4316</td>\n",
       "      <td>463</td>\n",
       "      <td>0.253976</td>\n",
       "      <td>13.168191</td>\n",
       "    </tr>\n",
       "    <tr>\n",
       "      <th>43</th>\n",
       "      <td>Brass: Lancashire</td>\n",
       "      <td>8.121086</td>\n",
       "      <td>14995</td>\n",
       "      <td>328</td>\n",
       "      <td>0.276385</td>\n",
       "      <td>13.156876</td>\n",
       "    </tr>\n",
       "    <tr>\n",
       "      <th>80</th>\n",
       "      <td>BattleCON: Devastation of Indines</td>\n",
       "      <td>8.004595</td>\n",
       "      <td>2650</td>\n",
       "      <td>484</td>\n",
       "      <td>0.274995</td>\n",
       "      <td>13.156619</td>\n",
       "    </tr>\n",
       "    <tr>\n",
       "      <th>38</th>\n",
       "      <td>Fields of Arle</td>\n",
       "      <td>8.138667</td>\n",
       "      <td>5714</td>\n",
       "      <td>310</td>\n",
       "      <td>0.253904</td>\n",
       "      <td>13.151823</td>\n",
       "    </tr>\n",
       "  </tbody>\n",
       "</table>\n",
       "<p>100 rows × 6 columns</p>\n",
       "</div>"
      ],
      "text/plain": [
       "                                                   name      mean  count  \\\n",
       "2137                                        Tic-Tac-Toe  2.608882   2769   \n",
       "2136                                                War  2.616306   1305   \n",
       "2134                                 Chutes and Ladders  2.820847   3125   \n",
       "2135                                              Bingo  2.762277   1799   \n",
       "2132                                                LCR  3.261187   1523   \n",
       "0                                            Gloomhaven  8.903554  24485   \n",
       "2133                                         Candy Land  3.172635   3408   \n",
       "1                                Kingdom Death: Monster  8.809801   5800   \n",
       "2                    Twilight Imperium (Fourth Edition)  8.729413   6457   \n",
       "3                             Pandemic Legacy: Season 1  8.642492  30943   \n",
       "1977                             Cards Against Humanity  6.025889  19339   \n",
       "6                                          Gaia Project  8.550378   9035   \n",
       "2008                                           Munchkin  5.921035  35832   \n",
       "92                                Advanced Squad Leader  7.964294   3283   \n",
       "5                                     Brass: Birmingham  8.619484   5331   \n",
       "2004                                  Exploding Kittens  5.940704  13587   \n",
       "7                                        Too Many Bones  8.534952   2444   \n",
       "4                              Mythic Battles: Pantheon  8.620901   1813   \n",
       "8         Through the Ages: A New Story of Civilization  8.533845  15547   \n",
       "13                                    The 7th Continent  8.424031   8820   \n",
       "11                                 Star Wars: Rebellion  8.445850  16464   \n",
       "16                                    Twilight Struggle  8.325691  34387   \n",
       "12                     War of the Ring (Second Edition)  8.426209   9739   \n",
       "2049                                              Fluxx  5.686442  14339   \n",
       "1926                       Exploding Kittens: NSFW Deck  6.175225   5742   \n",
       "17                                               Scythe  8.286130  39104   \n",
       "2027                                         Zombies!!!  5.831997  13735   \n",
       "2129                                            Trouble  3.759144   2714   \n",
       "18                                  Great Western Trail  8.284660  18941   \n",
       "9                                               Nemesis  8.486349   2108   \n",
       "...                                                 ...       ...    ...   \n",
       "51                Shadows of Brimstone: Swamps of Death  8.088333   1940   \n",
       "1281                                           Smash Up  6.806387  20468   \n",
       "41                              The Castles of Burgundy  8.129152  36469   \n",
       "703                         One Night Ultimate Werewolf  7.215590  16862   \n",
       "72                                       Paths of Glory  8.019087   4059   \n",
       "129                                     Eldritch Horror  7.861219  23482   \n",
       "84            Through the Ages: A Story of Civilization  7.992275  16918   \n",
       "546                                      The Resistance  7.338761  31729   \n",
       "598                        Smash Up: Awesome Level 9000  7.300113   5951   \n",
       "54                            Combat Commander: Pacific  8.074243   1327   \n",
       "37                        Viticulture Essential Edition  8.143059  17217   \n",
       "401                                Magic: The Gathering  7.473738  27838   \n",
       "63                                      Lords of Hellas  8.054546   2819   \n",
       "39                           Agricola (Revised Edition)  8.136313   4572   \n",
       "121                                  Android: Netrunner  7.899637  24306   \n",
       "40                                    Mechs vs. Minions  8.131832  11075   \n",
       "79           Shadows of Brimstone: City of the Ancients  8.005471   2901   \n",
       "1812                                           Talisman  6.362789   4785   \n",
       "50                                                 Root  8.096174   6839   \n",
       "52                                              Orléans  8.083176  15739   \n",
       "60                                   Clans of Caledonia  8.062913   8789   \n",
       "336                           Axis & Allies Europe 1940  7.550631   1611   \n",
       "53                          Star Wars: Imperial Assault  8.082005  16491   \n",
       "74                                        The Gallerist  8.016956   6680   \n",
       "35                               Arcadia Quest: Inferno  8.152270   1466   \n",
       "1482  Warhammer: The Mass Combat Fantasy Roleplaying...  6.652386   2539   \n",
       "73                            Teotihuacan: City of Gods  8.017548   4316   \n",
       "43                                    Brass: Lancashire  8.121086  14995   \n",
       "80                    BattleCON: Devastation of Indines  8.004595   2650   \n",
       "38                                       Fields of Arle  8.138667   5714   \n",
       "\n",
       "       rank  model_score  weights_sum  \n",
       "2137  16678    -0.381589    24.849243  \n",
       "2136  16677    -0.385485    23.859728  \n",
       "2134  16668    -0.399438    22.818176  \n",
       "2135  16673    -0.380525    22.345882  \n",
       "2132  16657    -0.362845    21.802368  \n",
       "0        35     0.383276    20.741590  \n",
       "2133  16661    -0.373037    19.993757  \n",
       "1        44     0.466535    19.462381  \n",
       "2        53     0.384380    19.369850  \n",
       "3        68     0.326969    19.288017  \n",
       "1977  11024     0.010679    18.379524  \n",
       "6        96     0.294152    18.189018  \n",
       "2008  11712    -0.122733    17.818962  \n",
       "92      533     0.286085    17.414150  \n",
       "5        77     0.327083    17.301138  \n",
       "2004  11574    -0.130565    17.119047  \n",
       "7       102     0.318820    17.048168  \n",
       "4        76     0.359267    16.776976  \n",
       "8       103     0.308015    16.770348  \n",
       "13      145     0.320997    16.228148  \n",
       "11      133     0.320111    16.148884  \n",
       "16      191     0.300608    15.927194  \n",
       "12      143     0.311980    15.906400  \n",
       "2049  13095    -0.142902    15.858180  \n",
       "1926   9964    -0.039066    15.766325  \n",
       "17      211     0.294214    15.646695  \n",
       "2027  12258    -0.112472    15.531037  \n",
       "2129  16583    -0.329057    15.466353  \n",
       "18      212     0.273814    15.308851  \n",
       "9       122     0.360122    15.220189  \n",
       "...     ...          ...          ...  \n",
       "51      361     0.262815    13.809097  \n",
       "1281   5210     0.118941    13.793905  \n",
       "41      319     0.268200    13.735626  \n",
       "703    2785     0.186035    13.717877  \n",
       "72      461     0.296252    13.695848  \n",
       "129     701     0.294154    13.680633  \n",
       "84      501     0.263184    13.636951  \n",
       "546    2241     0.221842    13.636929  \n",
       "598    2412     0.199854    13.609862  \n",
       "54      376     0.275012    13.596219  \n",
       "37      303     0.277671    13.584325  \n",
       "401    1694     0.301195    13.557755  \n",
       "63      403     0.274835    13.556188  \n",
       "39      313     0.259227    13.479656  \n",
       "121     649     0.271782    13.445665  \n",
       "40      316     0.294511    13.427068  \n",
       "79      482     0.330488    13.345347  \n",
       "1812   8561     0.154912    13.322894  \n",
       "50      356     0.309184    13.320201  \n",
       "52      366     0.276832    13.271165  \n",
       "60      393     0.247040    13.262743  \n",
       "336    1469     0.224986    13.258201  \n",
       "53      367     0.299631    13.223418  \n",
       "74      464     0.226737    13.218933  \n",
       "35      299     0.269418    13.174849  \n",
       "1482   6340     0.097164    13.171099  \n",
       "73      463     0.253976    13.168191  \n",
       "43      328     0.276385    13.156876  \n",
       "80      484     0.274995    13.156619  \n",
       "38      310     0.253904    13.151823  \n",
       "\n",
       "[100 rows x 6 columns]"
      ]
     },
     "execution_count": 34,
     "metadata": {},
     "output_type": "execute_result"
    }
   ],
   "source": [
    "top_games.sort_values('weights_sum',ascending=False)[:100]"
   ]
  }
 ],
 "metadata": {
  "kernelspec": {
   "display_name": "Python 3",
   "language": "python",
   "name": "python3"
  },
  "language_info": {
   "codemirror_mode": {
    "name": "ipython",
    "version": 3
   },
   "file_extension": ".py",
   "mimetype": "text/x-python",
   "name": "python",
   "nbconvert_exporter": "python",
   "pygments_lexer": "ipython3",
   "version": "3.9.9"
  }
 },
 "nbformat": 4,
 "nbformat_minor": 2
}
